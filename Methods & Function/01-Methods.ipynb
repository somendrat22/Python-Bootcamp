{
 "cells": [
  {
   "cell_type": "markdown",
   "id": "3168eaf0",
   "metadata": {},
   "source": [
    "# Methods \n",
    "\n",
    "Methods perform specific actions on an object and can also take arguments,just like a functions. Methods are functions that are built into object. \n",
    "\n",
    "Method are in the form:\n",
    "    \n",
    "    obj.method(arg1, arg2)"
   ]
  },
  {
   "cell_type": "code",
   "execution_count": 2,
   "id": "e54c4a7b",
   "metadata": {},
   "outputs": [],
   "source": [
    "lst = [1, 2, 3, 6,4, 5]"
   ]
  },
  {
   "cell_type": "markdown",
   "id": "0548bcb7",
   "metadata": {},
   "source": [
    "By pressing tab after lst. you will get suggestion of all the built in methods available in lst data structure "
   ]
  },
  {
   "cell_type": "code",
   "execution_count": 6,
   "id": "cdc0f9ce",
   "metadata": {},
   "outputs": [
    {
     "name": "stdout",
     "output_type": "stream",
     "text": [
      "Help on built-in function append:\n",
      "\n",
      "append(object, /) method of builtins.list instance\n",
      "    Append object to the end of the list.\n",
      "\n"
     ]
    }
   ],
   "source": [
    "help(lst.append)"
   ]
  },
  {
   "cell_type": "code",
   "execution_count": 7,
   "id": "2d1f77fc",
   "metadata": {},
   "outputs": [
    {
     "name": "stdout",
     "output_type": "stream",
     "text": [
      "Help on built-in function extend:\n",
      "\n",
      "extend(iterable, /) method of builtins.list instance\n",
      "    Extend list by appending elements from the iterable.\n",
      "\n"
     ]
    }
   ],
   "source": [
    "help(lst.extend)"
   ]
  },
  {
   "cell_type": "code",
   "execution_count": 8,
   "id": "a1006476",
   "metadata": {},
   "outputs": [],
   "source": [
    "# Help function helps us to know the functinality or work of a perticular method"
   ]
  }
 ],
 "metadata": {
  "kernelspec": {
   "display_name": "Python 3 (ipykernel)",
   "language": "python",
   "name": "python3"
  },
  "language_info": {
   "codemirror_mode": {
    "name": "ipython",
    "version": 3
   },
   "file_extension": ".py",
   "mimetype": "text/x-python",
   "name": "python",
   "nbconvert_exporter": "python",
   "pygments_lexer": "ipython3",
   "version": "3.9.12"
  }
 },
 "nbformat": 4,
 "nbformat_minor": 5
}
