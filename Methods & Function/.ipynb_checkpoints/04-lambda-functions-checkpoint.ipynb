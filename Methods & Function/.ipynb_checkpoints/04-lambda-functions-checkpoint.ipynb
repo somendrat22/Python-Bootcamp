{
 "cells": [
  {
   "cell_type": "markdown",
   "id": "8dc751e0",
   "metadata": {},
   "source": [
    "# Map functions \n",
    "\n",
    "The Map function allows you to \"map\" a function to an iterable object. This is to say you can quickly call the same function to every item in an iterable, such as a list."
   ]
  },
  {
   "cell_type": "code",
   "execution_count": 1,
   "id": "33c7333d",
   "metadata": {},
   "outputs": [],
   "source": [
    "def square(num):\n",
    "    return num*num"
   ]
  },
  {
   "cell_type": "code",
   "execution_count": 2,
   "id": "fffbe067",
   "metadata": {},
   "outputs": [
    {
     "data": {
      "text/plain": [
       "16"
      ]
     },
     "execution_count": 2,
     "metadata": {},
     "output_type": "execute_result"
    }
   ],
   "source": [
    "square(4)"
   ]
  },
  {
   "cell_type": "code",
   "execution_count": 3,
   "id": "240b3f66",
   "metadata": {},
   "outputs": [
    {
     "data": {
      "text/plain": [
       "4"
      ]
     },
     "execution_count": 3,
     "metadata": {},
     "output_type": "execute_result"
    }
   ],
   "source": [
    "square(2)"
   ]
  },
  {
   "cell_type": "code",
   "execution_count": 4,
   "id": "2762d6e8",
   "metadata": {},
   "outputs": [
    {
     "data": {
      "text/plain": [
       "81"
      ]
     },
     "execution_count": 4,
     "metadata": {},
     "output_type": "execute_result"
    }
   ],
   "source": [
    "square(9)"
   ]
  },
  {
   "cell_type": "code",
   "execution_count": 6,
   "id": "0b67cefd",
   "metadata": {},
   "outputs": [
    {
     "name": "stdout",
     "output_type": "stream",
     "text": [
      "1\n",
      "9\n",
      "4\n",
      "16\n",
      "25\n",
      "36\n"
     ]
    }
   ],
   "source": [
    "li = [1, 3, 2, 4, 5, 6]\n",
    "for i in range(0, len(li)):\n",
    "    print(square(li[i]))"
   ]
  },
  {
   "cell_type": "code",
   "execution_count": 7,
   "id": "575c7a59",
   "metadata": {},
   "outputs": [
    {
     "data": {
      "text/plain": [
       "<map at 0x26a1a8633a0>"
      ]
     },
     "execution_count": 7,
     "metadata": {},
     "output_type": "execute_result"
    }
   ],
   "source": [
    "map(square, li)"
   ]
  },
  {
   "cell_type": "code",
   "execution_count": 9,
   "id": "22686d8e",
   "metadata": {},
   "outputs": [
    {
     "data": {
      "text/plain": [
       "[1, 9, 4, 16, 25, 36]"
      ]
     },
     "execution_count": 9,
     "metadata": {},
     "output_type": "execute_result"
    }
   ],
   "source": [
    "list(map(square, li))"
   ]
  },
  {
   "cell_type": "code",
   "execution_count": 10,
   "id": "e10850dd",
   "metadata": {},
   "outputs": [],
   "source": [
    "myNames = [\"Maseta\", \"Somendra\", \"Nidhi\", \"Marry\", \"Sam\", \"Peter\"]"
   ]
  },
  {
   "cell_type": "code",
   "execution_count": 11,
   "id": "33281e4c",
   "metadata": {},
   "outputs": [],
   "source": [
    "def checkString(name):\n",
    "    if(len(name)%2 == 0):\n",
    "        return \"even\"\n",
    "    else:\n",
    "        return name[0]"
   ]
  },
  {
   "cell_type": "code",
   "execution_count": 12,
   "id": "601a548c",
   "metadata": {},
   "outputs": [
    {
     "name": "stdout",
     "output_type": "stream",
     "text": [
      "even\n",
      "even\n",
      "N\n",
      "M\n",
      "S\n",
      "P\n"
     ]
    }
   ],
   "source": [
    "for name in  myNames:\n",
    "    print(checkString(name))"
   ]
  },
  {
   "cell_type": "code",
   "execution_count": 13,
   "id": "39b5c7b9",
   "metadata": {},
   "outputs": [
    {
     "data": {
      "text/plain": [
       "['even', 'even', 'N', 'M', 'S', 'P']"
      ]
     },
     "execution_count": 13,
     "metadata": {},
     "output_type": "execute_result"
    }
   ],
   "source": [
    "list(map(checkString, myNames))"
   ]
  }
 ],
 "metadata": {
  "kernelspec": {
   "display_name": "Python 3 (ipykernel)",
   "language": "python",
   "name": "python3"
  },
  "language_info": {
   "codemirror_mode": {
    "name": "ipython",
    "version": 3
   },
   "file_extension": ".py",
   "mimetype": "text/x-python",
   "name": "python",
   "nbconvert_exporter": "python",
   "pygments_lexer": "ipython3",
   "version": "3.9.12"
  }
 },
 "nbformat": 4,
 "nbformat_minor": 5
}
