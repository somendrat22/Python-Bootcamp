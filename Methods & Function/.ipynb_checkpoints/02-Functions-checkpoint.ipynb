{
 "cells": [
  {
   "cell_type": "markdown",
   "id": "1dd3fd7a",
   "metadata": {},
   "source": [
    "# Functions \n",
    "\n",
    "## Introduction to functions \n",
    "\n",
    "Function will be one of our main building block when we construct large or larger amount of code to solve problem.\n",
    "\n",
    "## What is function ?\n",
    "\n",
    "Formally, a function is a useful device that groups together a set of statements so they can be run more than once. They can also let us set the parameters that can serve inputs to the functions. \n",
    "\n",
    "On a more fundamental level, function allow us to not have to write the same code again and again. Example calling len() method on strings & list to get the length of the list or string whenever we need. So it helps us in reusablity of code.\n",
    "\n",
    "## Function Topics\n",
    "\n",
    "    1. def keyword\n",
    "    2. simple example of function \n",
    "    3. calling a function with ()\n",
    "    4. passing parameters to the function \n",
    "    5. print vs return \n",
    "    6. adding logic inside function \n",
    "    7. multiple returns inside a function\n",
    "    8. adding in loops inside a function\n",
    "    9. tuple unpacking \n",
    "    10. interactions between multiple functions "
   ]
  },
  {
   "cell_type": "markdown",
   "id": "9abd6bb2",
   "metadata": {},
   "source": [
    "# def keyword "
   ]
  },
  {
   "cell_type": "code",
   "execution_count": 1,
   "id": "94feaf53",
   "metadata": {},
   "outputs": [],
   "source": [
    "def name_of_function(arg1, arg2):\n",
    "    '''\n",
    "    This is to provide the defination of the function. What this function majorly do \n",
    "    '''\n",
    "    # Do whatever you want this function perform. Write your code here \n",
    "    # Return desired result "
   ]
  },
  {
   "cell_type": "code",
   "execution_count": 4,
   "id": "ef8ea2f0",
   "metadata": {},
   "outputs": [],
   "source": [
    "def printHello(): # Whenevr you call this function it will print hello world \n",
    "    '''\n",
    "    This function help us to write hello world.\n",
    "    '''\n",
    "    print(\"Hello World !!\")"
   ]
  },
  {
   "cell_type": "code",
   "execution_count": 3,
   "id": "7d30db87",
   "metadata": {},
   "outputs": [
    {
     "name": "stdout",
     "output_type": "stream",
     "text": [
      "Hello World !!\n"
     ]
    }
   ],
   "source": [
    "printHello() # If i apply call then the main logic get execeuted. "
   ]
  },
  {
   "cell_type": "code",
   "execution_count": 6,
   "id": "409d8552",
   "metadata": {},
   "outputs": [
    {
     "name": "stdout",
     "output_type": "stream",
     "text": [
      "Help on function printHello in module __main__:\n",
      "\n",
      "printHello()\n",
      "    This function help us to write hello world.\n",
      "\n"
     ]
    }
   ],
   "source": [
    "help(printHello)"
   ]
  },
  {
   "cell_type": "markdown",
   "id": "1ae60a92",
   "metadata": {},
   "source": [
    "# Accepting Parameters (Arguments)"
   ]
  },
  {
   "cell_type": "code",
   "execution_count": 7,
   "id": "e0286b3c",
   "metadata": {},
   "outputs": [],
   "source": [
    "def greeting(name): # this name is the argument to the function or i can say this is input the function \n",
    "    print(\"Hello\" + \" \" + name)"
   ]
  },
  {
   "cell_type": "code",
   "execution_count": 8,
   "id": "1af62e9b",
   "metadata": {},
   "outputs": [
    {
     "name": "stdout",
     "output_type": "stream",
     "text": [
      "Hello Maseta\n"
     ]
    }
   ],
   "source": [
    "greeting(\"Maseta\")"
   ]
  },
  {
   "cell_type": "code",
   "execution_count": 10,
   "id": "cc428bf6",
   "metadata": {},
   "outputs": [
    {
     "name": "stdout",
     "output_type": "stream",
     "text": [
      "Hello Somendra\n"
     ]
    }
   ],
   "source": [
    "greeting(\"Somendra\")"
   ]
  },
  {
   "cell_type": "markdown",
   "id": "15dd5cc7",
   "metadata": {},
   "source": [
    "# Using return \n",
    "\n",
    "Return allows a function to return something that can be stored. In whatever way you want"
   ]
  },
  {
   "cell_type": "code",
   "execution_count": 12,
   "id": "6dc2a2c8",
   "metadata": {},
   "outputs": [],
   "source": [
    "def add_num(num1, num2):\n",
    "    cal = num1 + num2\n",
    "    return cal"
   ]
  },
  {
   "cell_type": "code",
   "execution_count": 13,
   "id": "ead20330",
   "metadata": {},
   "outputs": [
    {
     "data": {
      "text/plain": [
       "5"
      ]
     },
     "execution_count": 13,
     "metadata": {},
     "output_type": "execute_result"
    }
   ],
   "source": [
    "add_num(2, 3)"
   ]
  },
  {
   "cell_type": "code",
   "execution_count": 14,
   "id": "14a71e67",
   "metadata": {},
   "outputs": [],
   "source": [
    "returnedValue = add_num(2, 3)"
   ]
  },
  {
   "cell_type": "code",
   "execution_count": 15,
   "id": "54a7f623",
   "metadata": {},
   "outputs": [
    {
     "data": {
      "text/plain": [
       "5"
      ]
     },
     "execution_count": 15,
     "metadata": {},
     "output_type": "execute_result"
    }
   ],
   "source": [
    "returnedValue"
   ]
  },
  {
   "cell_type": "code",
   "execution_count": 16,
   "id": "aa04f6f0",
   "metadata": {},
   "outputs": [],
   "source": [
    "def mul_num(num1, num2):\n",
    "    cal = num1*num2\n",
    "    return cal"
   ]
  },
  {
   "cell_type": "code",
   "execution_count": 17,
   "id": "2eedaff1",
   "metadata": {},
   "outputs": [],
   "source": [
    "mul = mul_num(5, 6)"
   ]
  },
  {
   "cell_type": "code",
   "execution_count": 18,
   "id": "972ae6d5",
   "metadata": {},
   "outputs": [
    {
     "name": "stdout",
     "output_type": "stream",
     "text": [
      "30\n"
     ]
    }
   ],
   "source": [
    "print(mul)"
   ]
  },
  {
   "cell_type": "code",
   "execution_count": 19,
   "id": "0ab899bd",
   "metadata": {},
   "outputs": [
    {
     "data": {
      "text/plain": [
       "30"
      ]
     },
     "execution_count": 19,
     "metadata": {},
     "output_type": "execute_result"
    }
   ],
   "source": [
    "mul"
   ]
  },
  {
   "cell_type": "code",
   "execution_count": 20,
   "id": "c4da0865",
   "metadata": {},
   "outputs": [
    {
     "name": "stdout",
     "output_type": "stream",
     "text": [
      "Hello Maseta\n"
     ]
    }
   ],
   "source": [
    "greet = greeting(\"Maseta\")"
   ]
  },
  {
   "cell_type": "code",
   "execution_count": 21,
   "id": "2326be7f",
   "metadata": {},
   "outputs": [],
   "source": [
    "greet"
   ]
  },
  {
   "cell_type": "markdown",
   "id": "09fe0964",
   "metadata": {},
   "source": [
    "## Very common question: \"What is the difference between return & print ?\n",
    "\n",
    "#### The return keyword allows you to actually save the result of the output of a function as variable. The print function simply displays the output to you, but doesn't save it for future use. "
   ]
  }
 ],
 "metadata": {
  "kernelspec": {
   "display_name": "Python 3 (ipykernel)",
   "language": "python",
   "name": "python3"
  },
  "language_info": {
   "codemirror_mode": {
    "name": "ipython",
    "version": 3
   },
   "file_extension": ".py",
   "mimetype": "text/x-python",
   "name": "python",
   "nbconvert_exporter": "python",
   "pygments_lexer": "ipython3",
   "version": "3.9.12"
  }
 },
 "nbformat": 4,
 "nbformat_minor": 5
}
