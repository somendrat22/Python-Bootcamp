{
 "cells": [
  {
   "cell_type": "markdown",
   "metadata": {},
   "source": [
    "# *args and **kwargs"
   ]
  },
  {
   "cell_type": "markdown",
   "metadata": {},
   "source": [
    "# *args \n",
    "\n",
    "When a function starts with asterik, it follows for an arbitary arguments. And function takes them in tuple of values "
   ]
  },
  {
   "cell_type": "code",
   "execution_count": 1,
   "metadata": {},
   "outputs": [],
   "source": [
    "def myFun(*args):\n",
    "    res = sum(args)*0.5\n",
    "    return res\n"
   ]
  },
  {
   "cell_type": "code",
   "execution_count": 5,
   "metadata": {},
   "outputs": [
    {
     "data": {
      "text/plain": [
       "10.5"
      ]
     },
     "execution_count": 5,
     "metadata": {},
     "output_type": "execute_result"
    }
   ],
   "source": [
    "myFun(1, 2, 3 , 4, 5, 6)"
   ]
  },
  {
   "cell_type": "code",
   "execution_count": 8,
   "metadata": {},
   "outputs": [],
   "source": [
    "def myFunStr(*args):\n",
    "    print(args)\n",
    "    print(args[0])\n",
    "    print(args[1])\n",
    "    print(args[2])\n"
   ]
  },
  {
   "cell_type": "code",
   "execution_count": 10,
   "metadata": {},
   "outputs": [
    {
     "name": "stdout",
     "output_type": "stream",
     "text": [
      "('Somendra', 'Maseta', 'Anything')\n",
      "Somendra\n",
      "Maseta\n",
      "Anything\n"
     ]
    }
   ],
   "source": [
    "myFunStr(\"Somendra\", \"Maseta\", \"Anything\") # We will see we are receiving these args in the form of tuples"
   ]
  },
  {
   "cell_type": "markdown",
   "metadata": {},
   "source": [
    "# **kwargs"
   ]
  },
  {
   "cell_type": "markdown",
   "metadata": {},
   "source": [
    "Similarly, Python offers a way to handle arbitary numbers of keyword arguments. Instead of creating the tuples of values. **kwargs build a dictionary of key value pairs. "
   ]
  },
  {
   "cell_type": "code",
   "execution_count": 14,
   "metadata": {},
   "outputs": [
    {
     "name": "stdout",
     "output_type": "stream",
     "text": [
      "No fruit\n"
     ]
    }
   ],
   "source": [
    "def myFunKwarg(**kwargs):\n",
    "    if \"Nothing\" in kwargs:\n",
    "        \n",
    "        print(\"My fav fruit\" + \" \" + kwargs[\"fruit\"])\n",
    "    else:\n",
    "        print(\"No fruit\")\n",
    "\n",
    "myFunKwarg(fruit = \"Grapes\")"
   ]
  },
  {
   "cell_type": "code",
   "execution_count": 15,
   "metadata": {},
   "outputs": [
    {
     "name": "stdout",
     "output_type": "stream",
     "text": [
      "No fruit\n"
     ]
    }
   ],
   "source": [
    "myFunKwarg(fruit = \"Grapes\",Name = \"Maseta\")"
   ]
  },
  {
   "cell_type": "code",
   "execution_count": 22,
   "metadata": {},
   "outputs": [],
   "source": [
    "def calcMoney(**kwargs):\n",
    "    moneySom = kwargs[\"somendra\"]\n",
    "    moneyMasita = kwargs[\"maseta\"]\n",
    "    return moneySom + moneyMasita"
   ]
  },
  {
   "cell_type": "code",
   "execution_count": 23,
   "metadata": {},
   "outputs": [
    {
     "data": {
      "text/plain": [
       "25"
      ]
     },
     "execution_count": 23,
     "metadata": {},
     "output_type": "execute_result"
    }
   ],
   "source": [
    "calcMoney(somendra = 10, maseta = 15)"
   ]
  }
 ],
 "metadata": {
  "kernelspec": {
   "display_name": "Python 3.10.6 64-bit",
   "language": "python",
   "name": "python3"
  },
  "language_info": {
   "codemirror_mode": {
    "name": "ipython",
    "version": 3
   },
   "file_extension": ".py",
   "mimetype": "text/x-python",
   "name": "python",
   "nbconvert_exporter": "python",
   "pygments_lexer": "ipython3",
   "version": "3.10.6"
  },
  "orig_nbformat": 4,
  "vscode": {
   "interpreter": {
    "hash": "76d7c06053c3456e5600312cec90888656fc0ed30c03d8425b9dac6e4fc8e014"
   }
  }
 },
 "nbformat": 4,
 "nbformat_minor": 2
}
