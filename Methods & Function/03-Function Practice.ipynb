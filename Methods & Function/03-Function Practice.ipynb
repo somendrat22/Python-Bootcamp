{
 "cells": [
  {
   "cell_type": "markdown",
   "id": "d5aad13b",
   "metadata": {},
   "source": [
    "## Lesser of two evens : Write a function that returns the lesser of two given numbers if both numbers are evens. and we have to take maximum if one of them or both are odd."
   ]
  },
  {
   "cell_type": "code",
   "execution_count": 2,
   "id": "6599ae84",
   "metadata": {},
   "outputs": [],
   "source": [
    "def lesserOfTwoEvens(num1, num2):\n",
    "    if(num1%2 == 0 and num2%2 == 0):\n",
    "        return min(num1, num2)\n",
    "    else:\n",
    "        return max(num1, num2)"
   ]
  },
  {
   "cell_type": "code",
   "execution_count": 3,
   "id": "b54b9783",
   "metadata": {},
   "outputs": [
    {
     "data": {
      "text/plain": [
       "2"
      ]
     },
     "execution_count": 3,
     "metadata": {},
     "output_type": "execute_result"
    }
   ],
   "source": [
    "lesserOfTwoEvens(2, 4)"
   ]
  },
  {
   "cell_type": "code",
   "execution_count": 4,
   "id": "f4f3bbbf",
   "metadata": {},
   "outputs": [
    {
     "data": {
      "text/plain": [
       "4"
      ]
     },
     "execution_count": 4,
     "metadata": {},
     "output_type": "execute_result"
    }
   ],
   "source": [
    "lesserOfTwoEvens(3, 4)"
   ]
  },
  {
   "cell_type": "markdown",
   "id": "7c12b830",
   "metadata": {},
   "source": [
    "## Find 33 \n",
    "\n",
    "[1, 3, 3] -> true\n",
    "[1, 3, 1, 3] -> false"
   ]
  },
  {
   "cell_type": "code",
   "execution_count": 5,
   "id": "906e1b34",
   "metadata": {},
   "outputs": [],
   "source": [
    "def has33(nums):\n",
    "    for i in  range(0, len(nums) - 1):\n",
    "        if(nums[i:i+2] == [3,3]):\n",
    "            return True\n",
    "    return False"
   ]
  },
  {
   "cell_type": "code",
   "execution_count": 6,
   "id": "568deb61",
   "metadata": {},
   "outputs": [
    {
     "data": {
      "text/plain": [
       "True"
      ]
     },
     "execution_count": 6,
     "metadata": {},
     "output_type": "execute_result"
    }
   ],
   "source": [
    "has33([1,3, 3])"
   ]
  },
  {
   "cell_type": "code",
   "execution_count": 7,
   "id": "6d14f045",
   "metadata": {},
   "outputs": [
    {
     "data": {
      "text/plain": [
       "False"
      ]
     },
     "execution_count": 7,
     "metadata": {},
     "output_type": "execute_result"
    }
   ],
   "source": [
    "has33([1,4, 3, 2, 3])"
   ]
  }
 ],
 "metadata": {
  "kernelspec": {
   "display_name": "Python 3 (ipykernel)",
   "language": "python",
   "name": "python3"
  },
  "language_info": {
   "codemirror_mode": {
    "name": "ipython",
    "version": 3
   },
   "file_extension": ".py",
   "mimetype": "text/x-python",
   "name": "python",
   "nbconvert_exporter": "python",
   "pygments_lexer": "ipython3",
   "version": "3.9.12"
  }
 },
 "nbformat": 4,
 "nbformat_minor": 5
}
