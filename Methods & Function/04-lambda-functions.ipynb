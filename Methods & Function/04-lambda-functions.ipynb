{
 "cells": [
  {
   "cell_type": "markdown",
   "id": "8dc751e0",
   "metadata": {},
   "source": [
    "# Map functions \n",
    "\n",
    "The Map function allows you to \"map\" a function to an iterable object. This is to say you can quickly call the same function to every item in an iterable, such as a list."
   ]
  },
  {
   "cell_type": "code",
   "execution_count": 1,
   "id": "33c7333d",
   "metadata": {},
   "outputs": [],
   "source": [
    "def square(num):\n",
    "    return num*num"
   ]
  },
  {
   "cell_type": "code",
   "execution_count": 2,
   "id": "fffbe067",
   "metadata": {},
   "outputs": [
    {
     "data": {
      "text/plain": [
       "16"
      ]
     },
     "execution_count": 2,
     "metadata": {},
     "output_type": "execute_result"
    }
   ],
   "source": [
    "square(4)"
   ]
  },
  {
   "cell_type": "code",
   "execution_count": 3,
   "id": "240b3f66",
   "metadata": {},
   "outputs": [
    {
     "data": {
      "text/plain": [
       "4"
      ]
     },
     "execution_count": 3,
     "metadata": {},
     "output_type": "execute_result"
    }
   ],
   "source": [
    "square(2)"
   ]
  },
  {
   "cell_type": "code",
   "execution_count": 4,
   "id": "2762d6e8",
   "metadata": {},
   "outputs": [
    {
     "data": {
      "text/plain": [
       "81"
      ]
     },
     "execution_count": 4,
     "metadata": {},
     "output_type": "execute_result"
    }
   ],
   "source": [
    "square(9)"
   ]
  },
  {
   "cell_type": "code",
   "execution_count": 6,
   "id": "0b67cefd",
   "metadata": {},
   "outputs": [
    {
     "name": "stdout",
     "output_type": "stream",
     "text": [
      "1\n",
      "9\n",
      "4\n",
      "16\n",
      "25\n",
      "36\n"
     ]
    }
   ],
   "source": [
    "li = [1, 3, 2, 4, 5, 6]\n",
    "for i in range(0, len(li)):\n",
    "    print(square(li[i]))"
   ]
  },
  {
   "cell_type": "code",
   "execution_count": 7,
   "id": "575c7a59",
   "metadata": {},
   "outputs": [
    {
     "data": {
      "text/plain": [
       "<map at 0x26a1a8633a0>"
      ]
     },
     "execution_count": 7,
     "metadata": {},
     "output_type": "execute_result"
    }
   ],
   "source": [
    "map(square, li)"
   ]
  },
  {
   "cell_type": "code",
   "execution_count": 9,
   "id": "22686d8e",
   "metadata": {},
   "outputs": [
    {
     "data": {
      "text/plain": [
       "[1, 9, 4, 16, 25, 36]"
      ]
     },
     "execution_count": 9,
     "metadata": {},
     "output_type": "execute_result"
    }
   ],
   "source": [
    "list(map(square, li))"
   ]
  },
  {
   "cell_type": "code",
   "execution_count": 2,
   "id": "e10850dd",
   "metadata": {},
   "outputs": [],
   "source": [
    "myNames = [\"Maseta\", \"Somendra\", \"Nidhi\", \"Marry\", \"Sam\", \"Peter\"]"
   ]
  },
  {
   "cell_type": "code",
   "execution_count": 3,
   "id": "33281e4c",
   "metadata": {},
   "outputs": [],
   "source": [
    "def checkString(name):\n",
    "    if(len(name)%2 == 0):\n",
    "        return \"even\"\n",
    "    else:\n",
    "        return name[0]"
   ]
  },
  {
   "cell_type": "code",
   "execution_count": 4,
   "id": "601a548c",
   "metadata": {},
   "outputs": [
    {
     "name": "stdout",
     "output_type": "stream",
     "text": [
      "even\n",
      "even\n",
      "N\n",
      "M\n",
      "S\n",
      "P\n"
     ]
    }
   ],
   "source": [
    "for name in  myNames:\n",
    "    print(checkString(name))"
   ]
  },
  {
   "cell_type": "code",
   "execution_count": 5,
   "id": "39b5c7b9",
   "metadata": {},
   "outputs": [
    {
     "data": {
      "text/plain": [
       "['even', 'even', 'N', 'M', 'S', 'P']"
      ]
     },
     "execution_count": 5,
     "metadata": {},
     "output_type": "execute_result"
    }
   ],
   "source": [
    "list(map(checkString, myNames))"
   ]
  },
  {
   "cell_type": "markdown",
   "id": "5c7c2b91",
   "metadata": {},
   "source": [
    "# Filter Functions \n",
    "\n",
    "The filter function returns an iterator yielding those items of iterable for which function is true. Meaning you need to filetr by a function that returns either True or False. Then passing into the filter along with your iterable you will get back the result that will return only true."
   ]
  },
  {
   "cell_type": "code",
   "execution_count": 6,
   "id": "df195c87",
   "metadata": {},
   "outputs": [],
   "source": [
    "def isEven(num):\n",
    "    if(num%2 == 0):\n",
    "        return True\n",
    "    else:\n",
    "        return False"
   ]
  },
  {
   "cell_type": "code",
   "execution_count": 8,
   "id": "bf92dbd9",
   "metadata": {},
   "outputs": [
    {
     "name": "stdout",
     "output_type": "stream",
     "text": [
      "0   True\n",
      "1   False\n",
      "2   True\n",
      "3   False\n",
      "4   True\n",
      "5   False\n",
      "6   True\n",
      "7   False\n",
      "8   True\n",
      "9   False\n",
      "10   True\n",
      "11   False\n",
      "12   True\n",
      "13   False\n",
      "14   True\n",
      "15   False\n",
      "16   True\n",
      "17   False\n",
      "18   True\n",
      "19   False\n",
      "20   True\n",
      "21   False\n",
      "22   True\n",
      "23   False\n",
      "24   True\n",
      "25   False\n",
      "26   True\n",
      "27   False\n",
      "28   True\n",
      "29   False\n",
      "30   True\n",
      "31   False\n",
      "32   True\n",
      "33   False\n",
      "34   True\n",
      "35   False\n",
      "36   True\n",
      "37   False\n",
      "38   True\n",
      "39   False\n",
      "40   True\n",
      "41   False\n",
      "42   True\n",
      "43   False\n",
      "44   True\n",
      "45   False\n",
      "46   True\n",
      "47   False\n",
      "48   True\n",
      "49   False\n",
      "50   True\n",
      "51   False\n",
      "52   True\n",
      "53   False\n",
      "54   True\n",
      "55   False\n",
      "56   True\n",
      "57   False\n",
      "58   True\n",
      "59   False\n",
      "60   True\n",
      "61   False\n",
      "62   True\n",
      "63   False\n",
      "64   True\n",
      "65   False\n",
      "66   True\n",
      "67   False\n",
      "68   True\n",
      "69   False\n",
      "70   True\n",
      "71   False\n",
      "72   True\n",
      "73   False\n",
      "74   True\n",
      "75   False\n",
      "76   True\n",
      "77   False\n",
      "78   True\n",
      "79   False\n",
      "80   True\n",
      "81   False\n",
      "82   True\n",
      "83   False\n",
      "84   True\n",
      "85   False\n",
      "86   True\n",
      "87   False\n",
      "88   True\n",
      "89   False\n",
      "90   True\n",
      "91   False\n",
      "92   True\n",
      "93   False\n",
      "94   True\n",
      "95   False\n",
      "96   True\n",
      "97   False\n",
      "98   True\n",
      "99   False\n"
     ]
    }
   ],
   "source": [
    "for i in range(0,100):\n",
    "    res = isEven(i)\n",
    "    print(i , \" \", res)\n"
   ]
  },
  {
   "cell_type": "code",
   "execution_count": 12,
   "id": "b089231b",
   "metadata": {},
   "outputs": [
    {
     "name": "stdout",
     "output_type": "stream",
     "text": [
      "[0, 1, 2, 3, 4, 5, 6, 7, 8, 9, 10, 11, 12, 13, 14, 15, 16, 17, 18, 19, 20, 21, 22, 23, 24, 25, 26, 27, 28, 29, 30, 31, 32, 33, 34, 35, 36, 37, 38, 39, 40, 41, 42, 43, 44, 45, 46, 47, 48, 49, 50, 51, 52, 53, 54, 55, 56, 57, 58, 59, 60, 61, 62, 63, 64, 65, 66, 67, 68, 69, 70, 71, 72, 73, 74, 75, 76, 77, 78, 79, 80, 81, 82, 83, 84, 85, 86, 87, 88, 89, 90, 91, 92, 93, 94, 95, 96, 97, 98, 99]\n"
     ]
    },
    {
     "data": {
      "text/plain": [
       "[0,\n",
       " 2,\n",
       " 4,\n",
       " 6,\n",
       " 8,\n",
       " 10,\n",
       " 12,\n",
       " 14,\n",
       " 16,\n",
       " 18,\n",
       " 20,\n",
       " 22,\n",
       " 24,\n",
       " 26,\n",
       " 28,\n",
       " 30,\n",
       " 32,\n",
       " 34,\n",
       " 36,\n",
       " 38,\n",
       " 40,\n",
       " 42,\n",
       " 44,\n",
       " 46,\n",
       " 48,\n",
       " 50,\n",
       " 52,\n",
       " 54,\n",
       " 56,\n",
       " 58,\n",
       " 60,\n",
       " 62,\n",
       " 64,\n",
       " 66,\n",
       " 68,\n",
       " 70,\n",
       " 72,\n",
       " 74,\n",
       " 76,\n",
       " 78,\n",
       " 80,\n",
       " 82,\n",
       " 84,\n",
       " 86,\n",
       " 88,\n",
       " 90,\n",
       " 92,\n",
       " 94,\n",
       " 96,\n",
       " 98]"
      ]
     },
     "execution_count": 12,
     "metadata": {},
     "output_type": "execute_result"
    }
   ],
   "source": [
    "li  = []\n",
    "\n",
    "for i in range(0, 100):\n",
    "    li.append(i)\n",
    "\n",
    "print(li)\n",
    "\n",
    "list(filter(isEven, li))"
   ]
  },
  {
   "cell_type": "markdown",
   "id": "051b854e",
   "metadata": {},
   "source": [
    "# Lamda Functions :\n",
    "\n",
    "One of the most useful tools of python but also confusing for beginners. Lamda functions allows us to quickly create \"anonymous functions\". This basically means we can quickly make ad-hoc functions without needing to properly define a function using def. \n",
    "\n"
   ]
  },
  {
   "cell_type": "code",
   "execution_count": 13,
   "id": "8711155d",
   "metadata": {},
   "outputs": [],
   "source": [
    "def makeSquare(num):\n",
    "    return num*num"
   ]
  },
  {
   "cell_type": "code",
   "execution_count": 15,
   "id": "e2de42dd",
   "metadata": {},
   "outputs": [
    {
     "data": {
      "text/plain": [
       "4"
      ]
     },
     "execution_count": 15,
     "metadata": {},
     "output_type": "execute_result"
    }
   ],
   "source": [
    "makeSquare(2)"
   ]
  },
  {
   "cell_type": "code",
   "execution_count": 16,
   "id": "26b65711",
   "metadata": {},
   "outputs": [
    {
     "data": {
      "text/plain": [
       "<function __main__.<lambda>(num)>"
      ]
     },
     "execution_count": 16,
     "metadata": {},
     "output_type": "execute_result"
    }
   ],
   "source": [
    "lambda num: num*num"
   ]
  },
  {
   "cell_type": "code",
   "execution_count": 17,
   "id": "88919259",
   "metadata": {},
   "outputs": [],
   "source": [
    "square = lambda num: num*num"
   ]
  },
  {
   "cell_type": "code",
   "execution_count": 18,
   "id": "f3d37e99",
   "metadata": {},
   "outputs": [
    {
     "data": {
      "text/plain": [
       "4"
      ]
     },
     "execution_count": 18,
     "metadata": {},
     "output_type": "execute_result"
    }
   ],
   "source": [
    "square(2)"
   ]
  },
  {
   "cell_type": "code",
   "execution_count": 19,
   "id": "70904c8a",
   "metadata": {},
   "outputs": [
    {
     "data": {
      "text/plain": [
       "[4, 9, 25, 81, 16, 64]"
      ]
     },
     "execution_count": 19,
     "metadata": {},
     "output_type": "execute_result"
    }
   ],
   "source": [
    "li = [2, 3, 5, 9, 4, 8]\n",
    "\n",
    "list(map(lambda num : num*num, li))"
   ]
  },
  {
   "cell_type": "code",
   "execution_count": 20,
   "id": "5be0f866",
   "metadata": {},
   "outputs": [
    {
     "data": {
      "text/plain": [
       "[2, 4, 8]"
      ]
     },
     "execution_count": 20,
     "metadata": {},
     "output_type": "execute_result"
    }
   ],
   "source": [
    "list(filter(lambda num: num%2 == 0, li))"
   ]
  },
  {
   "cell_type": "code",
   "execution_count": 26,
   "id": "a41df217",
   "metadata": {},
   "outputs": [],
   "source": [
    "\n",
    "sum  = lambda x, y : x + \" \" + y"
   ]
  },
  {
   "cell_type": "code",
   "execution_count": 27,
   "id": "e64e855f",
   "metadata": {},
   "outputs": [
    {
     "data": {
      "text/plain": [
       "'Maseta Python Coder'"
      ]
     },
     "execution_count": 27,
     "metadata": {},
     "output_type": "execute_result"
    }
   ],
   "source": [
    "sum(\"Maseta\", \"Python Coder\")"
   ]
  }
 ],
 "metadata": {
  "kernelspec": {
   "display_name": "Python 3.10.6 64-bit",
   "language": "python",
   "name": "python3"
  },
  "language_info": {
   "codemirror_mode": {
    "name": "ipython",
    "version": 3
   },
   "file_extension": ".py",
   "mimetype": "text/x-python",
   "name": "python",
   "nbconvert_exporter": "python",
   "pygments_lexer": "ipython3",
   "version": "3.10.6"
  },
  "vscode": {
   "interpreter": {
    "hash": "76d7c06053c3456e5600312cec90888656fc0ed30c03d8425b9dac6e4fc8e014"
   }
  }
 },
 "nbformat": 4,
 "nbformat_minor": 5
}
