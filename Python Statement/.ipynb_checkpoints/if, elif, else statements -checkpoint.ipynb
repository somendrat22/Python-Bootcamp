{
 "cells": [
  {
   "cell_type": "markdown",
   "id": "70162130",
   "metadata": {},
   "source": [
    "if -> This block will work whenever a condition present in this block got true. \n",
    "\n",
    "elif -> This condition will work only when if condition present above this will got false and the contion present for this will got true\n",
    "\n",
    "else -> If every condtion above else block got false. Then you enter else block. It does not require condtion. Its a by default case."
   ]
  },
  {
   "cell_type": "code",
   "execution_count": null,
   "id": "9b8fb199",
   "metadata": {},
   "outputs": [],
   "source": [
    "if case1:\n",
    "    print(\"somendra\")\n",
    "elif case2:\n",
    "    print(\"maseta\")\n",
    "else:\n",
    "    print(\"Nidhi\")"
   ]
  },
  {
   "cell_type": "code",
   "execution_count": 4,
   "id": "866350b9",
   "metadata": {},
   "outputs": [],
   "source": [
    "if 3 < 2:\n",
    "    print(\"It's true\")"
   ]
  },
  {
   "cell_type": "code",
   "execution_count": 3,
   "id": "23130b70",
   "metadata": {},
   "outputs": [],
   "source": [
    "if False:\n",
    "    print(\"Inside if \")"
   ]
  },
  {
   "cell_type": "code",
   "execution_count": 5,
   "id": "97f69f69",
   "metadata": {},
   "outputs": [
    {
     "name": "stdout",
     "output_type": "stream",
     "text": [
      "I will be printed in any case where x is not true\n"
     ]
    }
   ],
   "source": [
    "x = False\n",
    "\n",
    "if x:\n",
    "    print(\"x is true\")\n",
    "else:\n",
    "    print(\"I will be printed in any case where x is not true\")"
   ]
  },
  {
   "cell_type": "markdown",
   "id": "463137f7",
   "metadata": {},
   "source": [
    "# Multiple Branches "
   ]
  },
  {
   "cell_type": "code",
   "execution_count": 10,
   "id": "0c9fae18",
   "metadata": {},
   "outputs": [
    {
     "name": "stdout",
     "output_type": "stream",
     "text": [
      "Inside chemist shop\n"
     ]
    }
   ],
   "source": [
    "loc = \"Chemist Shop\"\n",
    "\n",
    "if loc == \"Chemist Shop\":\n",
    "    print(\"Inside chemist shop\")\n",
    "elif loc == \"Bank\":\n",
    "    print(\"Welcome to the bank !!\")\n",
    "else:\n",
    "    print(\"Where are you ?\")"
   ]
  },
  {
   "cell_type": "code",
   "execution_count": 11,
   "id": "42dff44e",
   "metadata": {},
   "outputs": [
    {
     "name": "stdout",
     "output_type": "stream",
     "text": [
      "Hii Maseta\n"
     ]
    }
   ],
   "source": [
    "person = \"Maseta\"\n",
    "\n",
    "if person == \"Maseta\":\n",
    "    print(\"Hii Maseta\")\n",
    "elif person == \"Somendra\":\n",
    "    print(\"Hii Somendra\")\n",
    "else:\n",
    "    print(\"Hii Who are you ?\")"
   ]
  }
 ],
 "metadata": {
  "kernelspec": {
   "display_name": "Python 3 (ipykernel)",
   "language": "python",
   "name": "python3"
  },
  "language_info": {
   "codemirror_mode": {
    "name": "ipython",
    "version": 3
   },
   "file_extension": ".py",
   "mimetype": "text/x-python",
   "name": "python",
   "nbconvert_exporter": "python",
   "pygments_lexer": "ipython3",
   "version": "3.9.12"
  }
 },
 "nbformat": 4,
 "nbformat_minor": 5
}
