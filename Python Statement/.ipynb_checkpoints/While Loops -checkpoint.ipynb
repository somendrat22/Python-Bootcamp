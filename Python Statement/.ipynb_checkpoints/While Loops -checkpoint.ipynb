{
 "cells": [
  {
   "cell_type": "markdown",
   "id": "9be92bb6",
   "metadata": {},
   "source": []
  },
  {
   "cell_type": "code",
   "execution_count": 2,
   "id": "7a3e8933",
   "metadata": {},
   "outputs": [
    {
     "name": "stdout",
     "output_type": "stream",
     "text": [
      "Value of x currently : 0\n",
      "Value of x currently : 1\n",
      "Value of x currently : 2\n",
      "Value of x currently : 3\n",
      "Value of x currently : 4\n",
      "Value of x currently : 5\n",
      "Value of x currently : 6\n",
      "Value of x currently : 7\n",
      "Value of x currently : 8\n",
      "Value of x currently : 9\n"
     ]
    }
   ],
   "source": [
    "x = 0\n",
    "\n",
    "\n",
    "# A while statement will repeatedly execute a single statement and a group of statement as long as condition is true \n",
    "while x < 10:\n",
    "    print(\"Value of x currently :\", x)\n",
    "    #print(\"x is currently less that 10, so incrementing x by 1\")\n",
    "    x += 1"
   ]
  },
  {
   "cell_type": "code",
   "execution_count": 4,
   "id": "24d8e541",
   "metadata": {},
   "outputs": [
    {
     "name": "stdout",
     "output_type": "stream",
     "text": [
      "s   0\n",
      "o   1\n",
      "m   2\n",
      "e   3\n",
      "n   4\n",
      "d   5\n",
      "r   6\n",
      "a   7\n"
     ]
    }
   ],
   "source": [
    "s = \"somendra\"\n",
    "\n",
    "lengthOfS = len(s)\n",
    "\n",
    "idx = 0\n",
    "\n",
    "while idx < lengthOfS:\n",
    "    print(s[idx],  \" \", idx)\n",
    "    idx += 1"
   ]
  },
  {
   "cell_type": "code",
   "execution_count": null,
   "id": "1b9f782c",
   "metadata": {},
   "outputs": [],
   "source": []
  }
 ],
 "metadata": {
  "kernelspec": {
   "display_name": "Python 3 (ipykernel)",
   "language": "python",
   "name": "python3"
  },
  "language_info": {
   "codemirror_mode": {
    "name": "ipython",
    "version": 3
   },
   "file_extension": ".py",
   "mimetype": "text/x-python",
   "name": "python",
   "nbconvert_exporter": "python",
   "pygments_lexer": "ipython3",
   "version": "3.9.12"
  }
 },
 "nbformat": 4,
 "nbformat_minor": 5
}
