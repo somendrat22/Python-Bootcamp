{
 "cells": [
  {
   "cell_type": "markdown",
   "id": "2660b3f7",
   "metadata": {},
   "source": [
    "objects = [\"some\", \"Masita\", \"Nidhi\"] \n",
    "                               \n",
    "for item in objects:\n",
    "    statements to perform\n",
    "    "
   ]
  },
  {
   "cell_type": "code",
   "execution_count": 2,
   "id": "f94081c6",
   "metadata": {},
   "outputs": [
    {
     "name": "stdout",
     "output_type": "stream",
     "text": [
      "1\n",
      "2\n",
      "3\n",
      "4\n",
      "5\n",
      "6\n",
      "7\n",
      "8\n",
      "9\n",
      "10\n"
     ]
    }
   ],
   "source": [
    "list1 = [1, 2, 3, 4, 5, 6, 7, 8, 9, 10]\n",
    "\n",
    "for number in list1:\n",
    "    print(number)"
   ]
  },
  {
   "cell_type": "code",
   "execution_count": 8,
   "id": "39b21866",
   "metadata": {},
   "outputs": [
    {
     "name": "stdout",
     "output_type": "stream",
     "text": [
      "This is odd number\n",
      "2\n",
      "This is odd number\n",
      "4\n",
      "This is odd number\n",
      "6\n",
      "This is odd number\n",
      "8\n",
      "This is odd number\n",
      "10\n"
     ]
    }
   ],
   "source": [
    "for number in list1:\n",
    "    if number%2 == 0:\n",
    "        print(number)\n",
    "    else:\n",
    "        print(\"This is odd number\")"
   ]
  },
  {
   "cell_type": "code",
   "execution_count": 9,
   "id": "1395e1c2",
   "metadata": {},
   "outputs": [
    {
     "name": "stdout",
     "output_type": "stream",
     "text": [
      "55\n"
     ]
    }
   ],
   "source": [
    "calcSum = 0\n",
    "\n",
    "for num in list1:\n",
    "    calcSum += num\n",
    "    \n",
    "print(calcSum)"
   ]
  },
  {
   "cell_type": "code",
   "execution_count": 10,
   "id": "61a86e57",
   "metadata": {},
   "outputs": [
    {
     "name": "stdout",
     "output_type": "stream",
     "text": [
      "M\n",
      "a\n",
      "s\n",
      "e\n",
      "t\n",
      "a\n",
      "'\n",
      "s\n",
      " \n",
      "Q\n",
      "u\n",
      "e\n",
      "s\n",
      "t\n",
      "i\n",
      "o\n",
      "n\n"
     ]
    }
   ],
   "source": [
    "newStr = \"Maseta's Question\"\n",
    "\n",
    "for letter in newStr:\n",
    "    print(letter)"
   ]
  },
  {
   "cell_type": "code",
   "execution_count": 2,
   "id": "94a378c8",
   "metadata": {},
   "outputs": [
    {
     "name": "stdout",
     "output_type": "stream",
     "text": [
      "(2, 10)\n",
      "(3, 4)\n",
      "(5, 6)\n"
     ]
    }
   ],
   "source": [
    "list2 = [(2, 10), (3, 4), (5, 6)]\n",
    "\n",
    "for tup in list2:\n",
    "    print(tup)"
   ]
  },
  {
   "cell_type": "code",
   "execution_count": 3,
   "id": "b06831be",
   "metadata": {},
   "outputs": [
    {
     "name": "stdout",
     "output_type": "stream",
     "text": [
      "2\n",
      "3\n",
      "5\n"
     ]
    }
   ],
   "source": [
    "for (t1, t2) in list2: # Tupple unpacking \n",
    "    print(t1)"
   ]
  },
  {
   "cell_type": "code",
   "execution_count": 4,
   "id": "c014a1e3",
   "metadata": {},
   "outputs": [],
   "source": [
    "d = {\"India\" : \"New Delhi\", \"USA\" : \"Washington Dc\", \"Germany\" : \"Berlin\", \"France\" : \"Paris\"}"
   ]
  },
  {
   "cell_type": "code",
   "execution_count": 6,
   "id": "7b6e2fb2",
   "metadata": {},
   "outputs": [
    {
     "name": "stdout",
     "output_type": "stream",
     "text": [
      "India\n",
      "USA\n",
      "Germany\n",
      "France\n"
     ]
    }
   ],
   "source": [
    "for items in d:\n",
    "    print(items)"
   ]
  },
  {
   "cell_type": "code",
   "execution_count": 8,
   "id": "a30feb37",
   "metadata": {},
   "outputs": [
    {
     "data": {
      "text/plain": [
       "dict_keys(['India', 'USA', 'Germany', 'France'])"
      ]
     },
     "execution_count": 8,
     "metadata": {},
     "output_type": "execute_result"
    }
   ],
   "source": [
    "d.keys() # i am getting list of keys which may be in any datatype "
   ]
  },
  {
   "cell_type": "code",
   "execution_count": 9,
   "id": "1999b608",
   "metadata": {},
   "outputs": [
    {
     "data": {
      "text/plain": [
       "dict_values(['New Delhi', 'Washington Dc', 'Berlin', 'Paris'])"
      ]
     },
     "execution_count": 9,
     "metadata": {},
     "output_type": "execute_result"
    }
   ],
   "source": [
    "d.values() # i am getting list of values which may be in any datatype"
   ]
  },
  {
   "cell_type": "code",
   "execution_count": 10,
   "id": "3102d859",
   "metadata": {},
   "outputs": [
    {
     "data": {
      "text/plain": [
       "dict_items([('India', 'New Delhi'), ('USA', 'Washington Dc'), ('Germany', 'Berlin'), ('France', 'Paris')])"
      ]
     },
     "execution_count": 10,
     "metadata": {},
     "output_type": "execute_result"
    }
   ],
   "source": [
    "d.items() # i am getting list of tuples. In a particular tuple key and value pairs of dictionary is present. "
   ]
  },
  {
   "cell_type": "code",
   "execution_count": 13,
   "id": "c39209cb",
   "metadata": {},
   "outputs": [
    {
     "name": "stdout",
     "output_type": "stream",
     "text": [
      "India\n",
      "New Delhi\n",
      "USA\n",
      "Washington Dc\n",
      "Germany\n",
      "Berlin\n",
      "France\n",
      "Paris\n"
     ]
    }
   ],
   "source": [
    "for key, value in d.items():\n",
    "    print(key)\n",
    "    print(value)"
   ]
  },
  {
   "cell_type": "code",
   "execution_count": 14,
   "id": "9e329797",
   "metadata": {},
   "outputs": [
    {
     "name": "stdout",
     "output_type": "stream",
     "text": [
      "('India', 'New Delhi')\n",
      "('USA', 'Washington Dc')\n",
      "('Germany', 'Berlin')\n",
      "('France', 'Paris')\n"
     ]
    }
   ],
   "source": [
    "for item in d.items():\n",
    "    print(item)"
   ]
  },
  {
   "cell_type": "code",
   "execution_count": 15,
   "id": "bcbae300",
   "metadata": {},
   "outputs": [
    {
     "name": "stdout",
     "output_type": "stream",
     "text": [
      "India\n",
      "USA\n",
      "Germany\n",
      "France\n"
     ]
    }
   ],
   "source": [
    "for key, value in d.items():\n",
    "    print(key)"
   ]
  },
  {
   "cell_type": "code",
   "execution_count": null,
   "id": "11be0edc",
   "metadata": {},
   "outputs": [],
   "source": []
  }
 ],
 "metadata": {
  "kernelspec": {
   "display_name": "Python 3 (ipykernel)",
   "language": "python",
   "name": "python3"
  },
  "language_info": {
   "codemirror_mode": {
    "name": "ipython",
    "version": 3
   },
   "file_extension": ".py",
   "mimetype": "text/x-python",
   "name": "python",
   "nbconvert_exporter": "python",
   "pygments_lexer": "ipython3",
   "version": "3.9.12"
  }
 },
 "nbformat": 4,
 "nbformat_minor": 5
}
