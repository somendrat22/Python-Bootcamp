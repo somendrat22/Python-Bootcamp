{
 "cells": [
  {
   "cell_type": "markdown",
   "id": "157de4f2",
   "metadata": {},
   "source": [
    "objects = [\"some\", \"Masita\", \"Nidhi\"] \n",
    "                               \n",
    "for item in objects:\n",
    "    statements to perform\n",
    "    "
   ]
  },
  {
   "cell_type": "code",
   "execution_count": 2,
   "id": "ed7405e7",
   "metadata": {},
   "outputs": [
    {
     "name": "stdout",
     "output_type": "stream",
     "text": [
      "1\n",
      "2\n",
      "3\n",
      "4\n",
      "5\n",
      "6\n",
      "7\n",
      "8\n",
      "9\n",
      "10\n"
     ]
    }
   ],
   "source": [
    "list1 = [1, 2, 3, 4, 5, 6, 7, 8, 9, 10]\n",
    "\n",
    "for number in list1:\n",
    "    print(number)"
   ]
  },
  {
   "cell_type": "code",
   "execution_count": 8,
   "id": "67bedfd2",
   "metadata": {},
   "outputs": [
    {
     "name": "stdout",
     "output_type": "stream",
     "text": [
      "This is odd number\n",
      "2\n",
      "This is odd number\n",
      "4\n",
      "This is odd number\n",
      "6\n",
      "This is odd number\n",
      "8\n",
      "This is odd number\n",
      "10\n"
     ]
    }
   ],
   "source": [
    "for number in list1:\n",
    "    if number%2 == 0:\n",
    "        print(number)\n",
    "    else:\n",
    "        print(\"This is odd number\")"
   ]
  },
  {
   "cell_type": "code",
   "execution_count": 9,
   "id": "ef48819f",
   "metadata": {},
   "outputs": [
    {
     "name": "stdout",
     "output_type": "stream",
     "text": [
      "55\n"
     ]
    }
   ],
   "source": [
    "calcSum = 0\n",
    "\n",
    "for num in list1:\n",
    "    calcSum += num\n",
    "    \n",
    "print(calcSum)"
   ]
  },
  {
   "cell_type": "code",
   "execution_count": 10,
   "id": "801cd8f5",
   "metadata": {},
   "outputs": [
    {
     "name": "stdout",
     "output_type": "stream",
     "text": [
      "M\n",
      "a\n",
      "s\n",
      "e\n",
      "t\n",
      "a\n",
      "'\n",
      "s\n",
      " \n",
      "Q\n",
      "u\n",
      "e\n",
      "s\n",
      "t\n",
      "i\n",
      "o\n",
      "n\n"
     ]
    }
   ],
   "source": [
    "newStr = \"Maseta's Question\"\n",
    "\n",
    "for letter in newStr:\n",
    "    print(letter)"
   ]
  },
  {
   "cell_type": "code",
   "execution_count": 13,
   "id": "be925bfb",
   "metadata": {},
   "outputs": [
    {
     "name": "stdout",
     "output_type": "stream",
     "text": [
      "(2, 10)\n",
      "(3, 4)\n",
      "(5, 6)\n"
     ]
    }
   ],
   "source": [
    "list2 = [(2, 10), (3, 4), (5, 6)]\n",
    "\n",
    "for tup in list2:\n",
    "    print(tup)"
   ]
  },
  {
   "cell_type": "code",
   "execution_count": 14,
   "id": "70fa98d2",
   "metadata": {},
   "outputs": [
    {
     "name": "stdout",
     "output_type": "stream",
     "text": [
      "2\n",
      "3\n",
      "5\n"
     ]
    }
   ],
   "source": [
    "for (t1, t2) in list2: # Tupple unpacking \n",
    "    print(t1)"
   ]
  },
  {
   "cell_type": "code",
   "execution_count": null,
   "id": "fa7fcd6c",
   "metadata": {},
   "outputs": [],
   "source": []
  }
 ],
 "metadata": {
  "kernelspec": {
   "display_name": "Python 3 (ipykernel)",
   "language": "python",
   "name": "python3"
  },
  "language_info": {
   "codemirror_mode": {
    "name": "ipython",
    "version": 3
   },
   "file_extension": ".py",
   "mimetype": "text/x-python",
   "name": "python",
   "nbconvert_exporter": "python",
   "pygments_lexer": "ipython3",
   "version": "3.9.12"
  }
 },
 "nbformat": 4,
 "nbformat_minor": 5
}
