{
 "cells": [
  {
   "cell_type": "markdown",
   "id": "72cd1a51",
   "metadata": {},
   "source": [
    "# range\n",
    "\n",
    "The range function allows you to quickly generate a list of integers. \n",
    "\n",
    "[start : end : step]"
   ]
  },
  {
   "cell_type": "code",
   "execution_count": 4,
   "id": "86363165",
   "metadata": {},
   "outputs": [
    {
     "data": {
      "text/plain": [
       "[0, 2, 4, 6, 8, 10]"
      ]
     },
     "execution_count": 4,
     "metadata": {},
     "output_type": "execute_result"
    }
   ],
   "source": [
    "list(range(0, 11, 2))"
   ]
  },
  {
   "cell_type": "code",
   "execution_count": 5,
   "id": "823e6a64",
   "metadata": {},
   "outputs": [
    {
     "data": {
      "text/plain": [
       "range(0, 11)"
      ]
     },
     "execution_count": 5,
     "metadata": {},
     "output_type": "execute_result"
    }
   ],
   "source": [
    "range(0, 11) # range is just a generator function. It does not give you the list of numbers. It just give you the information "
   ]
  },
  {
   "cell_type": "code",
   "execution_count": 6,
   "id": "cda51c0e",
   "metadata": {},
   "outputs": [
    {
     "data": {
      "text/plain": [
       "[0, 5, 10]"
      ]
     },
     "execution_count": 6,
     "metadata": {},
     "output_type": "execute_result"
    }
   ],
   "source": [
    "list(range(0, 11, 5))"
   ]
  },
  {
   "cell_type": "code",
   "execution_count": 9,
   "id": "b148883f",
   "metadata": {},
   "outputs": [
    {
     "data": {
      "text/plain": [
       "True"
      ]
     },
     "execution_count": 9,
     "metadata": {},
     "output_type": "execute_result"
    }
   ],
   "source": [
    "# in operator quickly applies loop on the list or any other data structure and check if the value exist in that datastructure or not\n",
    "# and return true if value exist and return false if not\n",
    "\n",
    "listNames =  [\"Somendra\", \"Maseta\", \"Nidhi\"]\n",
    "\n",
    "\"Somendra\" in listNames"
   ]
  },
  {
   "cell_type": "code",
   "execution_count": 11,
   "id": "977e99ed",
   "metadata": {},
   "outputs": [
    {
     "data": {
      "text/plain": [
       "False"
      ]
     },
     "execution_count": 11,
     "metadata": {},
     "output_type": "execute_result"
    }
   ],
   "source": [
    "# not in \n",
    "\n",
    "listNames =  [\"Somendra\", \"Maseta\", \"Nidhi\"]\n",
    "\n",
    "\"Somendra\" not in listNames\n"
   ]
  },
  {
   "cell_type": "code",
   "execution_count": 12,
   "id": "fd700da2",
   "metadata": {},
   "outputs": [
    {
     "data": {
      "text/plain": [
       "10"
      ]
     },
     "execution_count": 12,
     "metadata": {},
     "output_type": "execute_result"
    }
   ],
   "source": [
    "# min & max \n",
    "\n",
    "#min -> iT will bring the minimum value from our datastructure.\n",
    "#max -> it will bring the maximum value from our datastructure \n",
    "\n",
    "myList = [10, 100, 200, 30, 40, 1000, 20000, 45, 60]\n",
    "\n",
    "min(myList)"
   ]
  },
  {
   "cell_type": "code",
   "execution_count": 13,
   "id": "fe6220e1",
   "metadata": {},
   "outputs": [
    {
     "data": {
      "text/plain": [
       "20000"
      ]
     },
     "execution_count": 13,
     "metadata": {},
     "output_type": "execute_result"
    }
   ],
   "source": [
    "max(myList)"
   ]
  },
  {
   "cell_type": "code",
   "execution_count": 14,
   "id": "a4dbb4c8",
   "metadata": {},
   "outputs": [],
   "source": [
    "# random \n",
    "\n",
    "# Python has a library called random. In this library there are many functions but we are going to see only 2 for now \n",
    "\n",
    "from random import shuffle \n",
    "\n",
    "# shuffle -> It will make inplace changes in the list. It means it will not return anything. It will make changes in our list\n",
    "\n",
    "shuffle(myList)"
   ]
  },
  {
   "cell_type": "code",
   "execution_count": 15,
   "id": "60ad60aa",
   "metadata": {},
   "outputs": [
    {
     "data": {
      "text/plain": [
       "[60, 1000, 100, 200, 30, 40, 45, 10, 20000]"
      ]
     },
     "execution_count": 15,
     "metadata": {},
     "output_type": "execute_result"
    }
   ],
   "source": [
    "myList"
   ]
  },
  {
   "cell_type": "code",
   "execution_count": 16,
   "id": "ac59bc18",
   "metadata": {},
   "outputs": [],
   "source": [
    "from random import randint"
   ]
  },
  {
   "cell_type": "code",
   "execution_count": 23,
   "id": "5fac5c1e",
   "metadata": {},
   "outputs": [
    {
     "data": {
      "text/plain": [
       "75"
      ]
     },
     "execution_count": 23,
     "metadata": {},
     "output_type": "execute_result"
    }
   ],
   "source": [
    "# randint -> It returns random integer in the range [a, b] , Including both endpoints \n",
    "\n",
    "randint(0, 100)"
   ]
  },
  {
   "cell_type": "code",
   "execution_count": null,
   "id": "badace9f",
   "metadata": {},
   "outputs": [],
   "source": [
    "# input \n",
    "\n",
    "# This input function help us to take the users input \n",
    "\n",
    "input(\"How wa the class today ?\")"
   ]
  },
  {
   "cell_type": "code",
   "execution_count": null,
   "id": "74ff2c85",
   "metadata": {},
   "outputs": [],
   "source": []
  }
 ],
 "metadata": {
  "kernelspec": {
   "display_name": "Python 3 (ipykernel)",
   "language": "python",
   "name": "python3"
  },
  "language_info": {
   "codemirror_mode": {
    "name": "ipython",
    "version": 3
   },
   "file_extension": ".py",
   "mimetype": "text/x-python",
   "name": "python",
   "nbconvert_exporter": "python",
   "pygments_lexer": "ipython3",
   "version": "3.9.12"
  }
 },
 "nbformat": 4,
 "nbformat_minor": 5
}
