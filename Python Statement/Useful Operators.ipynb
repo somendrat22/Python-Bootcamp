{
 "cells": [
  {
   "cell_type": "markdown",
   "id": "58c9fce7",
   "metadata": {},
   "source": [
    "# range\n",
    "\n",
    "The range function allows you to quickly generate a list of integers. \n",
    "\n",
    "[start : end : step]"
   ]
  },
  {
   "cell_type": "code",
   "execution_count": 4,
   "id": "39c2794d",
   "metadata": {},
   "outputs": [
    {
     "data": {
      "text/plain": [
       "[0, 2, 4, 6, 8, 10]"
      ]
     },
     "execution_count": 4,
     "metadata": {},
     "output_type": "execute_result"
    }
   ],
   "source": [
    "list(range(0, 11, 2))"
   ]
  },
  {
   "cell_type": "code",
   "execution_count": 5,
   "id": "0de8435b",
   "metadata": {},
   "outputs": [
    {
     "data": {
      "text/plain": [
       "range(0, 11)"
      ]
     },
     "execution_count": 5,
     "metadata": {},
     "output_type": "execute_result"
    }
   ],
   "source": [
    "range(0, 11) # range is just a generator function. It does not give you the list of numbers. It just give you the information "
   ]
  },
  {
   "cell_type": "code",
   "execution_count": 6,
   "id": "b9f61c17",
   "metadata": {},
   "outputs": [
    {
     "data": {
      "text/plain": [
       "[0, 5, 10]"
      ]
     },
     "execution_count": 6,
     "metadata": {},
     "output_type": "execute_result"
    }
   ],
   "source": [
    "list(range(0, 11, 5))"
   ]
  },
  {
   "cell_type": "code",
   "execution_count": 9,
   "id": "376dae9a",
   "metadata": {},
   "outputs": [
    {
     "data": {
      "text/plain": [
       "True"
      ]
     },
     "execution_count": 9,
     "metadata": {},
     "output_type": "execute_result"
    }
   ],
   "source": [
    "# in operator quickly applies loop on the list or any other data structure and check if the value exist in that datastructure or not\n",
    "# and return true if value exist and return false if not\n",
    "\n",
    "listNames =  [\"Somendra\", \"Maseta\", \"Nidhi\"]\n",
    "\n",
    "\"Somendra\" in listNames"
   ]
  },
  {
   "cell_type": "code",
   "execution_count": 11,
   "id": "394bd283",
   "metadata": {},
   "outputs": [
    {
     "data": {
      "text/plain": [
       "False"
      ]
     },
     "execution_count": 11,
     "metadata": {},
     "output_type": "execute_result"
    }
   ],
   "source": [
    "# not in \n",
    "\n",
    "listNames =  [\"Somendra\", \"Maseta\", \"Nidhi\"]\n",
    "\n",
    "\"Somendra\" not in listNames\n"
   ]
  },
  {
   "cell_type": "code",
   "execution_count": 12,
   "id": "3a69d625",
   "metadata": {},
   "outputs": [
    {
     "data": {
      "text/plain": [
       "10"
      ]
     },
     "execution_count": 12,
     "metadata": {},
     "output_type": "execute_result"
    }
   ],
   "source": [
    "# min & max \n",
    "\n",
    "#min -> iT will bring the minimum value from our datastructure.\n",
    "#max -> it will bring the maximum value from our datastructure \n",
    "\n",
    "myList = [10, 100, 200, 30, 40, 1000, 20000, 45, 60]\n",
    "\n",
    "min(myList)"
   ]
  },
  {
   "cell_type": "code",
   "execution_count": 13,
   "id": "8d520f1e",
   "metadata": {},
   "outputs": [
    {
     "data": {
      "text/plain": [
       "20000"
      ]
     },
     "execution_count": 13,
     "metadata": {},
     "output_type": "execute_result"
    }
   ],
   "source": [
    "max(myList)"
   ]
  },
  {
   "cell_type": "code",
   "execution_count": 14,
   "id": "d7f3c24f",
   "metadata": {},
   "outputs": [],
   "source": [
    "# random \n",
    "\n",
    "# Python has a library called random. In this library there are many functions but we are going to see only 2 for now \n",
    "\n",
    "from random import shuffle \n",
    "\n",
    "# shuffle -> It will make inplace changes in the list. It means it will not return anything. It will make changes in our list\n",
    "\n",
    "shuffle(myList)"
   ]
  },
  {
   "cell_type": "code",
   "execution_count": 15,
   "id": "2ca6ad8a",
   "metadata": {},
   "outputs": [
    {
     "data": {
      "text/plain": [
       "[60, 1000, 100, 200, 30, 40, 45, 10, 20000]"
      ]
     },
     "execution_count": 15,
     "metadata": {},
     "output_type": "execute_result"
    }
   ],
   "source": [
    "myList"
   ]
  },
  {
   "cell_type": "code",
   "execution_count": 16,
   "id": "4374f1ac",
   "metadata": {},
   "outputs": [],
   "source": [
    "from random import randint"
   ]
  },
  {
   "cell_type": "code",
   "execution_count": null,
   "id": "8a6d2834",
   "metadata": {},
   "outputs": [],
   "source": [
    "# randint -> It returns random integer in the range [a, b] , Including both endpoints \n",
    "\n",
    "randint(0, 100)"
   ]
  },
  {
   "cell_type": "code",
   "execution_count": 25,
   "id": "a7b2dca3",
   "metadata": {},
   "outputs": [
    {
     "name": "stdout",
     "output_type": "stream",
     "text": [
      "How was the class today ? : great\n"
     ]
    },
    {
     "data": {
      "text/plain": [
       "'great'"
      ]
     },
     "execution_count": 25,
     "metadata": {},
     "output_type": "execute_result"
    }
   ],
   "source": [
    "# input \n",
    "\n",
    "# This input function help us to take the users input \n",
    "\n",
    "input(\"How was the class today ? : \")"
   ]
  },
  {
   "cell_type": "code",
   "execution_count": null,
   "id": "d6cf2b9e",
   "metadata": {},
   "outputs": [],
   "source": []
  }
 ],
 "metadata": {
  "kernelspec": {
   "display_name": "Python 3 (ipykernel)",
   "language": "python",
   "name": "python3"
  },
  "language_info": {
   "codemirror_mode": {
    "name": "ipython",
    "version": 3
   },
   "file_extension": ".py",
   "mimetype": "text/x-python",
   "name": "python",
   "nbconvert_exporter": "python",
   "pygments_lexer": "ipython3",
   "version": "3.9.12"
  }
 },
 "nbformat": 4,
 "nbformat_minor": 5
}
