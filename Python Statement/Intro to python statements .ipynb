{
 "cells": [
  {
   "cell_type": "markdown",
   "id": "d8ee6c2c",
   "metadata": {},
   "source": [
    "# Version 1 in Java \n",
    "\n",
    "\n",
    "int a = 3;\n",
    "int b = 2;\n",
    "if(a > 2){\n",
    "    a = 4;\n",
    "}"
   ]
  },
  {
   "cell_type": "markdown",
   "id": "af98950a",
   "metadata": {},
   "source": [
    "# Version 2 in Python \n",
    "\n",
    "if a > 2:\n",
    "    a = 2 "
   ]
  },
  {
   "cell_type": "code",
   "execution_count": null,
   "id": "c83d620f",
   "metadata": {},
   "outputs": [],
   "source": [
    "# Indentation \n",
    "\n",
    "\n",
    "if(x == 2){\n",
    "if(y == 2){ # 2nd if condition \n",
    "\n",
    "}\n",
    "}else{\n",
    "\n",
    "\n",
    "}"
   ]
  },
  {
   "cell_type": "code",
   "execution_count": null,
   "id": "5b95c0be",
   "metadata": {},
   "outputs": [],
   "source": [
    "if x == 2: # \n",
    "    if y == 2:\n",
    "else:\n",
    "    x = 2"
   ]
  },
  {
   "cell_type": "markdown",
   "id": "dcd086fd",
   "metadata": {},
   "source": [
    "Python is heavily driven by code indentation & whitespaces. This means that code readablity is a core part of python "
   ]
  },
  {
   "cell_type": "code",
   "execution_count": null,
   "id": "2abb0265",
   "metadata": {},
   "outputs": [],
   "source": []
  }
 ],
 "metadata": {
  "kernelspec": {
   "display_name": "Python 3 (ipykernel)",
   "language": "python",
   "name": "python3"
  },
  "language_info": {
   "codemirror_mode": {
    "name": "ipython",
    "version": 3
   },
   "file_extension": ".py",
   "mimetype": "text/x-python",
   "name": "python",
   "nbconvert_exporter": "python",
   "pygments_lexer": "ipython3",
   "version": "3.9.12"
  }
 },
 "nbformat": 4,
 "nbformat_minor": 5
}
