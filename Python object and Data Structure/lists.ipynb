{
 "cells": [
  {
   "cell_type": "markdown",
   "id": "fbc4992d",
   "metadata": {},
   "source": [
    "# Lists \n",
    "\n",
    "Lists can thought of the most general version of sequence in Python. Unlike strings lists are mutuable i.e. you can change the values present in the list "
   ]
  },
  {
   "cell_type": "code",
   "execution_count": 1,
   "id": "5d978c13",
   "metadata": {},
   "outputs": [],
   "source": [
    "myList = [1,2,3]"
   ]
  },
  {
   "cell_type": "code",
   "execution_count": 2,
   "id": "eaefe946",
   "metadata": {},
   "outputs": [
    {
     "data": {
      "text/plain": [
       "[1, 2, 3]"
      ]
     },
     "execution_count": 2,
     "metadata": {},
     "output_type": "execute_result"
    }
   ],
   "source": [
    "myList"
   ]
  },
  {
   "cell_type": "code",
   "execution_count": 3,
   "id": "912513ee",
   "metadata": {},
   "outputs": [
    {
     "data": {
      "text/plain": [
       "list"
      ]
     },
     "execution_count": 3,
     "metadata": {},
     "output_type": "execute_result"
    }
   ],
   "source": [
    "type(myList)"
   ]
  },
  {
   "cell_type": "code",
   "execution_count": 4,
   "id": "66d14593",
   "metadata": {},
   "outputs": [],
   "source": [
    "# in earlier example we created list which is just storing integer value. But list can store value of different datatypes \n",
    "\n",
    "newList = [\"maseta\", 1, 2.0, True]"
   ]
  },
  {
   "cell_type": "code",
   "execution_count": 5,
   "id": "bdd29e18",
   "metadata": {},
   "outputs": [
    {
     "data": {
      "text/plain": [
       "['maseta', 1, 2.0, True]"
      ]
     },
     "execution_count": 5,
     "metadata": {},
     "output_type": "execute_result"
    }
   ],
   "source": [
    "newList"
   ]
  },
  {
   "cell_type": "code",
   "execution_count": 6,
   "id": "bf5ad115",
   "metadata": {},
   "outputs": [
    {
     "data": {
      "text/plain": [
       "4"
      ]
     },
     "execution_count": 6,
     "metadata": {},
     "output_type": "execute_result"
    }
   ],
   "source": [
    "#int [] arr = new int[size] This is how we create array in java\n",
    "\n",
    "len(newList)"
   ]
  },
  {
   "cell_type": "markdown",
   "id": "b2758053",
   "metadata": {},
   "source": [
    "# Indexing and slicing "
   ]
  },
  {
   "cell_type": "code",
   "execution_count": 16,
   "id": "9bc11a21",
   "metadata": {},
   "outputs": [],
   "source": [
    "\n",
    "myList = [\"one\", \"two\", 3, 4, 5]"
   ]
  },
  {
   "cell_type": "code",
   "execution_count": 10,
   "id": "554ece97",
   "metadata": {},
   "outputs": [
    {
     "data": {
      "text/plain": [
       "'two'"
      ]
     },
     "execution_count": 10,
     "metadata": {},
     "output_type": "execute_result"
    }
   ],
   "source": [
    "myList[1]"
   ]
  },
  {
   "cell_type": "code",
   "execution_count": 17,
   "id": "f82d0809",
   "metadata": {},
   "outputs": [
    {
     "data": {
      "text/plain": [
       "['two', 3, 4, 5]"
      ]
     },
     "execution_count": 17,
     "metadata": {},
     "output_type": "execute_result"
    }
   ],
   "source": [
    "myList[1:len(myList)]"
   ]
  },
  {
   "cell_type": "code",
   "execution_count": 18,
   "id": "85da89d3",
   "metadata": {},
   "outputs": [
    {
     "data": {
      "text/plain": [
       "['two', 3, 4]"
      ]
     },
     "execution_count": 18,
     "metadata": {},
     "output_type": "execute_result"
    }
   ],
   "source": [
    "myList[1:4]"
   ]
  },
  {
   "cell_type": "code",
   "execution_count": 19,
   "id": "0901f46a",
   "metadata": {},
   "outputs": [
    {
     "data": {
      "text/plain": [
       "['one', 'two', 3, 4, 5, 6, 7, 8, 10]"
      ]
     },
     "execution_count": 19,
     "metadata": {},
     "output_type": "execute_result"
    }
   ],
   "source": [
    "myList + [6, 7,8, 10]"
   ]
  },
  {
   "cell_type": "code",
   "execution_count": 20,
   "id": "5c233df7",
   "metadata": {},
   "outputs": [
    {
     "data": {
      "text/plain": [
       "['one', 'two', 3, 4, 5]"
      ]
     },
     "execution_count": 20,
     "metadata": {},
     "output_type": "execute_result"
    }
   ],
   "source": [
    "myList"
   ]
  },
  {
   "cell_type": "code",
   "execution_count": 21,
   "id": "cabe693d",
   "metadata": {},
   "outputs": [],
   "source": [
    "myList = myList + [4, 5,6 ,7 ]"
   ]
  },
  {
   "cell_type": "code",
   "execution_count": 22,
   "id": "3c1a4efa",
   "metadata": {},
   "outputs": [
    {
     "data": {
      "text/plain": [
       "['one', 'two', 3, 4, 5, 4, 5, 6, 7]"
      ]
     },
     "execution_count": 22,
     "metadata": {},
     "output_type": "execute_result"
    }
   ],
   "source": [
    "myList"
   ]
  },
  {
   "cell_type": "code",
   "execution_count": 23,
   "id": "301e3e57",
   "metadata": {},
   "outputs": [
    {
     "data": {
      "text/plain": [
       "['one', 'two', 3, 4, 5, 4, 5, 6, 7, 'one', 'two', 3, 4, 5, 4, 5, 6, 7]"
      ]
     },
     "execution_count": 23,
     "metadata": {},
     "output_type": "execute_result"
    }
   ],
   "source": [
    "myList * 2"
   ]
  },
  {
   "cell_type": "markdown",
   "id": "5a210533",
   "metadata": {},
   "source": [
    "# Basic List Methods"
   ]
  },
  {
   "cell_type": "code",
   "execution_count": 45,
   "id": "41f09125",
   "metadata": {},
   "outputs": [],
   "source": [
    "list1 = [1,2,3]"
   ]
  },
  {
   "cell_type": "code",
   "execution_count": 46,
   "id": "a8837c2a",
   "metadata": {},
   "outputs": [],
   "source": [
    "# Append -> It actually adds new data objects in the end of the list \n",
    "list1.append(2)"
   ]
  },
  {
   "cell_type": "code",
   "execution_count": 47,
   "id": "12044235",
   "metadata": {},
   "outputs": [
    {
     "data": {
      "text/plain": [
       "[1, 2, 3, 2]"
      ]
     },
     "execution_count": 47,
     "metadata": {},
     "output_type": "execute_result"
    }
   ],
   "source": [
    "list1"
   ]
  },
  {
   "cell_type": "code",
   "execution_count": 31,
   "id": "5bc674e2",
   "metadata": {},
   "outputs": [
    {
     "ename": "IndexError",
     "evalue": "pop from empty list",
     "output_type": "error",
     "traceback": [
      "\u001b[1;31m---------------------------------------------------------------------------\u001b[0m",
      "\u001b[1;31mIndexError\u001b[0m                                Traceback (most recent call last)",
      "Input \u001b[1;32mIn [31]\u001b[0m, in \u001b[0;36m<cell line: 2>\u001b[1;34m()\u001b[0m\n\u001b[0;32m      1\u001b[0m \u001b[38;5;66;03m# pop method -> It removes the last value from the list \u001b[39;00m\n\u001b[1;32m----> 2\u001b[0m \u001b[43mlist1\u001b[49m\u001b[38;5;241;43m.\u001b[39;49m\u001b[43mpop\u001b[49m\u001b[43m(\u001b[49m\u001b[43m)\u001b[49m\n",
      "\u001b[1;31mIndexError\u001b[0m: pop from empty list"
     ]
    }
   ],
   "source": [
    "# pop method -> It removes the last value from the list \n",
    "list1.pop()"
   ]
  },
  {
   "cell_type": "code",
   "execution_count": 40,
   "id": "f6bc8329",
   "metadata": {},
   "outputs": [
    {
     "data": {
      "text/plain": [
       "[1, 2, 3, 4, 2]"
      ]
     },
     "execution_count": 40,
     "metadata": {},
     "output_type": "execute_result"
    }
   ],
   "source": [
    "list1"
   ]
  },
  {
   "cell_type": "code",
   "execution_count": 42,
   "id": "89ec24c7",
   "metadata": {},
   "outputs": [
    {
     "data": {
      "text/plain": [
       "4"
      ]
     },
     "execution_count": 42,
     "metadata": {},
     "output_type": "execute_result"
    }
   ],
   "source": [
    "list1.pop() # Pop returns the value which it is removing from the list "
   ]
  },
  {
   "cell_type": "code",
   "execution_count": 43,
   "id": "148254e2",
   "metadata": {},
   "outputs": [
    {
     "data": {
      "text/plain": [
       "3"
      ]
     },
     "execution_count": 43,
     "metadata": {},
     "output_type": "execute_result"
    }
   ],
   "source": [
    "list1.pop(2)"
   ]
  },
  {
   "cell_type": "code",
   "execution_count": 48,
   "id": "1e19da1a",
   "metadata": {},
   "outputs": [
    {
     "data": {
      "text/plain": [
       "[1, 2, 3, 2]"
      ]
     },
     "execution_count": 48,
     "metadata": {},
     "output_type": "execute_result"
    }
   ],
   "source": [
    "list1"
   ]
  },
  {
   "cell_type": "code",
   "execution_count": 49,
   "id": "773445fb",
   "metadata": {},
   "outputs": [
    {
     "data": {
      "text/plain": [
       "3"
      ]
     },
     "execution_count": 49,
     "metadata": {},
     "output_type": "execute_result"
    }
   ],
   "source": [
    "list1.pop(2)"
   ]
  },
  {
   "cell_type": "code",
   "execution_count": 50,
   "id": "f7fda2c6",
   "metadata": {},
   "outputs": [
    {
     "data": {
      "text/plain": [
       "[1, 2, 2]"
      ]
     },
     "execution_count": 50,
     "metadata": {},
     "output_type": "execute_result"
    }
   ],
   "source": [
    "list1"
   ]
  },
  {
   "cell_type": "code",
   "execution_count": 51,
   "id": "0dd74c97",
   "metadata": {},
   "outputs": [],
   "source": [
    "deletedValue = list1.pop()"
   ]
  },
  {
   "cell_type": "code",
   "execution_count": 52,
   "id": "27d8eb43",
   "metadata": {},
   "outputs": [
    {
     "data": {
      "text/plain": [
       "2"
      ]
     },
     "execution_count": 52,
     "metadata": {},
     "output_type": "execute_result"
    }
   ],
   "source": [
    "deletedValue"
   ]
  },
  {
   "cell_type": "code",
   "execution_count": 53,
   "id": "d8a0c517",
   "metadata": {},
   "outputs": [
    {
     "ename": "IndexError",
     "evalue": "list index out of range",
     "output_type": "error",
     "traceback": [
      "\u001b[1;31m---------------------------------------------------------------------------\u001b[0m",
      "\u001b[1;31mIndexError\u001b[0m                                Traceback (most recent call last)",
      "Input \u001b[1;32mIn [53]\u001b[0m, in \u001b[0;36m<cell line: 1>\u001b[1;34m()\u001b[0m\n\u001b[1;32m----> 1\u001b[0m \u001b[43mlist1\u001b[49m\u001b[43m[\u001b[49m\u001b[38;5;241;43m200\u001b[39;49m\u001b[43m]\u001b[49m\n",
      "\u001b[1;31mIndexError\u001b[0m: list index out of range"
     ]
    }
   ],
   "source": [
    "list1[200]"
   ]
  },
  {
   "cell_type": "code",
   "execution_count": 54,
   "id": "88d9357c",
   "metadata": {},
   "outputs": [],
   "source": [
    "newReverse = ['a', 'e', 'i','o','u']\n",
    "newReverse.reverse()"
   ]
  },
  {
   "cell_type": "code",
   "execution_count": 56,
   "id": "771652aa",
   "metadata": {},
   "outputs": [
    {
     "data": {
      "text/plain": [
       "['u', 'o', 'i', 'e', 'a']"
      ]
     },
     "execution_count": 56,
     "metadata": {},
     "output_type": "execute_result"
    }
   ],
   "source": [
    "newReverse"
   ]
  },
  {
   "cell_type": "code",
   "execution_count": 57,
   "id": "6d695106",
   "metadata": {},
   "outputs": [],
   "source": [
    "newList =  [2, 4, 5,1, 13, 9]"
   ]
  },
  {
   "cell_type": "code",
   "execution_count": 58,
   "id": "1b832bc1",
   "metadata": {},
   "outputs": [],
   "source": [
    "newList.sort()"
   ]
  },
  {
   "cell_type": "code",
   "execution_count": 59,
   "id": "64a8bb0a",
   "metadata": {},
   "outputs": [
    {
     "data": {
      "text/plain": [
       "[1, 2, 4, 5, 9, 13]"
      ]
     },
     "execution_count": 59,
     "metadata": {},
     "output_type": "execute_result"
    }
   ],
   "source": [
    "newList"
   ]
  },
  {
   "cell_type": "code",
   "execution_count": 60,
   "id": "38f7a422",
   "metadata": {},
   "outputs": [],
   "source": [
    "newStr = \"somendra\""
   ]
  },
  {
   "cell_type": "code",
   "execution_count": 61,
   "id": "85aa3e9e",
   "metadata": {},
   "outputs": [
    {
     "data": {
      "text/plain": [
       "['a', 'd', 'e', 'm', 'n', 'o', 'r', 's']"
      ]
     },
     "execution_count": 61,
     "metadata": {},
     "output_type": "execute_result"
    }
   ],
   "source": [
    "sorted(newStr)"
   ]
  },
  {
   "cell_type": "markdown",
   "id": "55d43aa0",
   "metadata": {},
   "source": [
    "# Nesting Lists"
   ]
  },
  {
   "cell_type": "code",
   "execution_count": 62,
   "id": "541bbe8f",
   "metadata": {},
   "outputs": [],
   "source": [
    "l1 = [1,2,3]\n",
    "l2 = [4,5,6]\n",
    "l3 = [7,8,9]\n",
    "myFinalList  = [l1, l2, l3]"
   ]
  },
  {
   "cell_type": "code",
   "execution_count": 64,
   "id": "22f7d3d0",
   "metadata": {},
   "outputs": [
    {
     "name": "stdout",
     "output_type": "stream",
     "text": [
      "[[1, 2, 3], [4, 5, 6], [7, 8, 9]]\n"
     ]
    }
   ],
   "source": [
    "print(myFinalList)"
   ]
  },
  {
   "cell_type": "code",
   "execution_count": 65,
   "id": "31d922cf",
   "metadata": {},
   "outputs": [
    {
     "data": {
      "text/plain": [
       "2"
      ]
     },
     "execution_count": 65,
     "metadata": {},
     "output_type": "execute_result"
    }
   ],
   "source": [
    "l1[1]"
   ]
  },
  {
   "cell_type": "code",
   "execution_count": 67,
   "id": "312adf1c",
   "metadata": {},
   "outputs": [
    {
     "data": {
      "text/plain": [
       "4"
      ]
     },
     "execution_count": 67,
     "metadata": {},
     "output_type": "execute_result"
    }
   ],
   "source": [
    "myFinalList[1][0]"
   ]
  },
  {
   "cell_type": "code",
   "execution_count": 68,
   "id": "b27395fa",
   "metadata": {},
   "outputs": [
    {
     "data": {
      "text/plain": [
       "9"
      ]
     },
     "execution_count": 68,
     "metadata": {},
     "output_type": "execute_result"
    }
   ],
   "source": [
    "myFinalList[2][2]"
   ]
  },
  {
   "cell_type": "code",
   "execution_count": null,
   "id": "2a17fb4d",
   "metadata": {},
   "outputs": [],
   "source": []
  }
 ],
 "metadata": {
  "kernelspec": {
   "display_name": "Python 3 (ipykernel)",
   "language": "python",
   "name": "python3"
  },
  "language_info": {
   "codemirror_mode": {
    "name": "ipython",
    "version": 3
   },
   "file_extension": ".py",
   "mimetype": "text/x-python",
   "name": "python",
   "nbconvert_exporter": "python",
   "pygments_lexer": "ipython3",
   "version": "3.9.12"
  }
 },
 "nbformat": 4,
 "nbformat_minor": 5
}
