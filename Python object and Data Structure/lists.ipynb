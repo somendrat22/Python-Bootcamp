{
 "cells": [
  {
   "cell_type": "markdown",
   "id": "32834ddc",
   "metadata": {},
   "source": [
    "# Lists \n",
    "\n",
    "Lists can thought of the most general version of sequence in Python. Unlike strings lists are mutuable i.e. you can change the values present in the list "
   ]
  },
  {
   "cell_type": "code",
   "execution_count": 1,
   "id": "969b6134",
   "metadata": {},
   "outputs": [],
   "source": [
    "myList = [1,2,3]"
   ]
  },
  {
   "cell_type": "code",
   "execution_count": 2,
   "id": "e3772fab",
   "metadata": {},
   "outputs": [
    {
     "data": {
      "text/plain": [
       "[1, 2, 3]"
      ]
     },
     "execution_count": 2,
     "metadata": {},
     "output_type": "execute_result"
    }
   ],
   "source": [
    "myList"
   ]
  },
  {
   "cell_type": "code",
   "execution_count": 3,
   "id": "e151c2f1",
   "metadata": {},
   "outputs": [
    {
     "data": {
      "text/plain": [
       "list"
      ]
     },
     "execution_count": 3,
     "metadata": {},
     "output_type": "execute_result"
    }
   ],
   "source": [
    "type(myList)"
   ]
  },
  {
   "cell_type": "code",
   "execution_count": 4,
   "id": "8fd71e43",
   "metadata": {},
   "outputs": [],
   "source": [
    "# in earlier example we created list which is just storing integer value. But list can store value of different datatypes \n",
    "\n",
    "newList = [\"maseta\", 1, 2.0, True]"
   ]
  },
  {
   "cell_type": "code",
   "execution_count": 5,
   "id": "75f4f868",
   "metadata": {},
   "outputs": [
    {
     "data": {
      "text/plain": [
       "['maseta', 1, 2.0, True]"
      ]
     },
     "execution_count": 5,
     "metadata": {},
     "output_type": "execute_result"
    }
   ],
   "source": [
    "newList"
   ]
  },
  {
   "cell_type": "code",
   "execution_count": 6,
   "id": "264afb9c",
   "metadata": {},
   "outputs": [
    {
     "data": {
      "text/plain": [
       "4"
      ]
     },
     "execution_count": 6,
     "metadata": {},
     "output_type": "execute_result"
    }
   ],
   "source": [
    "#int [] arr = new int[size] This is how we create array in java\n",
    "\n",
    "len(newList)"
   ]
  },
  {
   "cell_type": "markdown",
   "id": "568038c1",
   "metadata": {},
   "source": [
    "# Indexing and slicing "
   ]
  },
  {
   "cell_type": "code",
   "execution_count": 16,
   "id": "50304d8d",
   "metadata": {},
   "outputs": [],
   "source": [
    "\n",
    "myList = [\"one\", \"two\", 3, 4, 5]"
   ]
  },
  {
   "cell_type": "code",
   "execution_count": 10,
   "id": "0edf8950",
   "metadata": {},
   "outputs": [
    {
     "data": {
      "text/plain": [
       "'two'"
      ]
     },
     "execution_count": 10,
     "metadata": {},
     "output_type": "execute_result"
    }
   ],
   "source": [
    "myList[1]"
   ]
  },
  {
   "cell_type": "code",
   "execution_count": 17,
   "id": "7159f2bd",
   "metadata": {},
   "outputs": [
    {
     "data": {
      "text/plain": [
       "['two', 3, 4, 5]"
      ]
     },
     "execution_count": 17,
     "metadata": {},
     "output_type": "execute_result"
    }
   ],
   "source": [
    "myList[1:len(myList)]"
   ]
  },
  {
   "cell_type": "code",
   "execution_count": 18,
   "id": "9343cc35",
   "metadata": {},
   "outputs": [
    {
     "data": {
      "text/plain": [
       "['two', 3, 4]"
      ]
     },
     "execution_count": 18,
     "metadata": {},
     "output_type": "execute_result"
    }
   ],
   "source": [
    "myList[1:4]"
   ]
  },
  {
   "cell_type": "code",
   "execution_count": 19,
   "id": "d1118afa",
   "metadata": {},
   "outputs": [
    {
     "data": {
      "text/plain": [
       "['one', 'two', 3, 4, 5, 6, 7, 8, 10]"
      ]
     },
     "execution_count": 19,
     "metadata": {},
     "output_type": "execute_result"
    }
   ],
   "source": [
    "myList + [6, 7,8, 10]"
   ]
  },
  {
   "cell_type": "code",
   "execution_count": 20,
   "id": "61a2ad90",
   "metadata": {},
   "outputs": [
    {
     "data": {
      "text/plain": [
       "['one', 'two', 3, 4, 5]"
      ]
     },
     "execution_count": 20,
     "metadata": {},
     "output_type": "execute_result"
    }
   ],
   "source": [
    "myList"
   ]
  },
  {
   "cell_type": "code",
   "execution_count": 21,
   "id": "c1815ab9",
   "metadata": {},
   "outputs": [],
   "source": [
    "myList = myList + [4, 5,6 ,7 ]"
   ]
  },
  {
   "cell_type": "code",
   "execution_count": 22,
   "id": "31891aaa",
   "metadata": {},
   "outputs": [
    {
     "data": {
      "text/plain": [
       "['one', 'two', 3, 4, 5, 4, 5, 6, 7]"
      ]
     },
     "execution_count": 22,
     "metadata": {},
     "output_type": "execute_result"
    }
   ],
   "source": [
    "myList"
   ]
  },
  {
   "cell_type": "code",
   "execution_count": 23,
   "id": "90238d57",
   "metadata": {},
   "outputs": [
    {
     "data": {
      "text/plain": [
       "['one', 'two', 3, 4, 5, 4, 5, 6, 7, 'one', 'two', 3, 4, 5, 4, 5, 6, 7]"
      ]
     },
     "execution_count": 23,
     "metadata": {},
     "output_type": "execute_result"
    }
   ],
   "source": [
    "myList * 2"
   ]
  },
  {
   "cell_type": "markdown",
   "id": "35dcdfdd",
   "metadata": {},
   "source": [
    "# Basic List Methods"
   ]
  },
  {
   "cell_type": "code",
   "execution_count": 45,
   "id": "5434ca2c",
   "metadata": {},
   "outputs": [],
   "source": [
    "list1 = [1,2,3]"
   ]
  },
  {
   "cell_type": "code",
   "execution_count": 46,
   "id": "a10f682c",
   "metadata": {},
   "outputs": [],
   "source": [
    "# Append -> It actually adds new data objects in the end of the list \n",
    "list1.append(2)"
   ]
  },
  {
   "cell_type": "code",
   "execution_count": 47,
   "id": "55e15477",
   "metadata": {},
   "outputs": [
    {
     "data": {
      "text/plain": [
       "[1, 2, 3, 2]"
      ]
     },
     "execution_count": 47,
     "metadata": {},
     "output_type": "execute_result"
    }
   ],
   "source": [
    "list1"
   ]
  },
  {
   "cell_type": "code",
   "execution_count": 31,
   "id": "1fb2bebc",
   "metadata": {},
   "outputs": [
    {
     "ename": "IndexError",
     "evalue": "pop from empty list",
     "output_type": "error",
     "traceback": [
      "\u001b[1;31m---------------------------------------------------------------------------\u001b[0m",
      "\u001b[1;31mIndexError\u001b[0m                                Traceback (most recent call last)",
      "Input \u001b[1;32mIn [31]\u001b[0m, in \u001b[0;36m<cell line: 2>\u001b[1;34m()\u001b[0m\n\u001b[0;32m      1\u001b[0m \u001b[38;5;66;03m# pop method -> It removes the last value from the list \u001b[39;00m\n\u001b[1;32m----> 2\u001b[0m \u001b[43mlist1\u001b[49m\u001b[38;5;241;43m.\u001b[39;49m\u001b[43mpop\u001b[49m\u001b[43m(\u001b[49m\u001b[43m)\u001b[49m\n",
      "\u001b[1;31mIndexError\u001b[0m: pop from empty list"
     ]
    }
   ],
   "source": [
    "# pop method -> It removes the last value from the list \n",
    "list1.pop()"
   ]
  },
  {
   "cell_type": "code",
   "execution_count": 40,
   "id": "6c3aceb0",
   "metadata": {},
   "outputs": [
    {
     "data": {
      "text/plain": [
       "[1, 2, 3, 4, 2]"
      ]
     },
     "execution_count": 40,
     "metadata": {},
     "output_type": "execute_result"
    }
   ],
   "source": [
    "list1"
   ]
  },
  {
   "cell_type": "code",
   "execution_count": 42,
   "id": "6e794cf1",
   "metadata": {},
   "outputs": [
    {
     "data": {
      "text/plain": [
       "4"
      ]
     },
     "execution_count": 42,
     "metadata": {},
     "output_type": "execute_result"
    }
   ],
   "source": [
    "list1.pop() # Pop returns the value which it is removing from the list "
   ]
  },
  {
   "cell_type": "code",
   "execution_count": 43,
   "id": "ae0b3882",
   "metadata": {},
   "outputs": [
    {
     "data": {
      "text/plain": [
       "3"
      ]
     },
     "execution_count": 43,
     "metadata": {},
     "output_type": "execute_result"
    }
   ],
   "source": [
    "list1.pop(2)"
   ]
  },
  {
   "cell_type": "code",
   "execution_count": 48,
   "id": "de0113ec",
   "metadata": {},
   "outputs": [
    {
     "data": {
      "text/plain": [
       "[1, 2, 3, 2]"
      ]
     },
     "execution_count": 48,
     "metadata": {},
     "output_type": "execute_result"
    }
   ],
   "source": [
    "list1"
   ]
  },
  {
   "cell_type": "code",
   "execution_count": 49,
   "id": "c0fcb43c",
   "metadata": {},
   "outputs": [
    {
     "data": {
      "text/plain": [
       "3"
      ]
     },
     "execution_count": 49,
     "metadata": {},
     "output_type": "execute_result"
    }
   ],
   "source": [
    "list1.pop(2)"
   ]
  },
  {
   "cell_type": "code",
   "execution_count": 50,
   "id": "619e591c",
   "metadata": {},
   "outputs": [
    {
     "data": {
      "text/plain": [
       "[1, 2, 2]"
      ]
     },
     "execution_count": 50,
     "metadata": {},
     "output_type": "execute_result"
    }
   ],
   "source": [
    "list1"
   ]
  },
  {
   "cell_type": "code",
   "execution_count": 51,
   "id": "6e2f1aba",
   "metadata": {},
   "outputs": [],
   "source": [
    "deletedValue = list1.pop()"
   ]
  },
  {
   "cell_type": "code",
   "execution_count": 52,
   "id": "da6c9bfa",
   "metadata": {},
   "outputs": [
    {
     "data": {
      "text/plain": [
       "2"
      ]
     },
     "execution_count": 52,
     "metadata": {},
     "output_type": "execute_result"
    }
   ],
   "source": [
    "deletedValue"
   ]
  },
  {
   "cell_type": "code",
   "execution_count": 53,
   "id": "ed460365",
   "metadata": {},
   "outputs": [
    {
     "ename": "IndexError",
     "evalue": "list index out of range",
     "output_type": "error",
     "traceback": [
      "\u001b[1;31m---------------------------------------------------------------------------\u001b[0m",
      "\u001b[1;31mIndexError\u001b[0m                                Traceback (most recent call last)",
      "Input \u001b[1;32mIn [53]\u001b[0m, in \u001b[0;36m<cell line: 1>\u001b[1;34m()\u001b[0m\n\u001b[1;32m----> 1\u001b[0m \u001b[43mlist1\u001b[49m\u001b[43m[\u001b[49m\u001b[38;5;241;43m200\u001b[39;49m\u001b[43m]\u001b[49m\n",
      "\u001b[1;31mIndexError\u001b[0m: list index out of range"
     ]
    }
   ],
   "source": [
    "list1[200]"
   ]
  },
  {
   "cell_type": "code",
   "execution_count": 54,
   "id": "f2f9cdfc",
   "metadata": {},
   "outputs": [],
   "source": [
    "newReverse = ['a', 'e', 'i','o','u']\n",
    "newReverse.reverse()"
   ]
  },
  {
   "cell_type": "code",
   "execution_count": 56,
   "id": "32abf39a",
   "metadata": {},
   "outputs": [
    {
     "data": {
      "text/plain": [
       "['u', 'o', 'i', 'e', 'a']"
      ]
     },
     "execution_count": 56,
     "metadata": {},
     "output_type": "execute_result"
    }
   ],
   "source": [
    "newReverse"
   ]
  },
  {
   "cell_type": "code",
   "execution_count": 57,
   "id": "9422c975",
   "metadata": {},
   "outputs": [],
   "source": [
    "newList =  [2, 4, 5,1, 13, 9]"
   ]
  },
  {
   "cell_type": "code",
   "execution_count": 58,
   "id": "c2d47d62",
   "metadata": {},
   "outputs": [],
   "source": [
    "newList.sort()"
   ]
  },
  {
   "cell_type": "code",
   "execution_count": 59,
   "id": "51559dd3",
   "metadata": {},
   "outputs": [
    {
     "data": {
      "text/plain": [
       "[1, 2, 4, 5, 9, 13]"
      ]
     },
     "execution_count": 59,
     "metadata": {},
     "output_type": "execute_result"
    }
   ],
   "source": [
    "newList"
   ]
  },
  {
   "cell_type": "code",
   "execution_count": 60,
   "id": "0c1b0fa6",
   "metadata": {},
   "outputs": [],
   "source": [
    "newStr = \"somendra\""
   ]
  },
  {
   "cell_type": "code",
   "execution_count": 61,
   "id": "69d1dd4d",
   "metadata": {},
   "outputs": [
    {
     "data": {
      "text/plain": [
       "['a', 'd', 'e', 'm', 'n', 'o', 'r', 's']"
      ]
     },
     "execution_count": 61,
     "metadata": {},
     "output_type": "execute_result"
    }
   ],
   "source": [
    "sorted(newStr)"
   ]
  },
  {
   "cell_type": "markdown",
   "id": "5844166e",
   "metadata": {},
   "source": [
    "# Nesting Lists"
   ]
  },
  {
   "cell_type": "code",
   "execution_count": 62,
   "id": "6ffdf8fb",
   "metadata": {},
   "outputs": [],
   "source": [
    "l1 = [1,2,3]\n",
    "l2 = [4,5,6]\n",
    "l3 = [7,8,9]\n",
    "myFinalList  = [l1, l2, l3]"
   ]
  },
  {
   "cell_type": "code",
   "execution_count": 64,
   "id": "45449601",
   "metadata": {},
   "outputs": [
    {
     "name": "stdout",
     "output_type": "stream",
     "text": [
      "[[1, 2, 3], [4, 5, 6], [7, 8, 9]]\n"
     ]
    }
   ],
   "source": [
    "print(myFinalList)"
   ]
  },
  {
   "cell_type": "code",
   "execution_count": 65,
   "id": "3bb68404",
   "metadata": {},
   "outputs": [
    {
     "data": {
      "text/plain": [
       "2"
      ]
     },
     "execution_count": 65,
     "metadata": {},
     "output_type": "execute_result"
    }
   ],
   "source": [
    "l1[1]"
   ]
  },
  {
   "cell_type": "code",
   "execution_count": 67,
   "id": "03418248",
   "metadata": {},
   "outputs": [
    {
     "data": {
      "text/plain": [
       "4"
      ]
     },
     "execution_count": 67,
     "metadata": {},
     "output_type": "execute_result"
    }
   ],
   "source": [
    "myFinalList[1][0]"
   ]
  },
  {
   "cell_type": "code",
   "execution_count": null,
   "id": "2bf26072",
   "metadata": {},
   "outputs": [],
   "source": [
    "myFinalList[]"
   ]
  }
 ],
 "metadata": {
  "kernelspec": {
   "display_name": "Python 3 (ipykernel)",
   "language": "python",
   "name": "python3"
  },
  "language_info": {
   "codemirror_mode": {
    "name": "ipython",
    "version": 3
   },
   "file_extension": ".py",
   "mimetype": "text/x-python",
   "name": "python",
   "nbconvert_exporter": "python",
   "pygments_lexer": "ipython3",
   "version": "3.9.12"
  }
 },
 "nbformat": 4,
 "nbformat_minor": 5
}
