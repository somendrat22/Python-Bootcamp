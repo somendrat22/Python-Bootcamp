{
 "cells": [
  {
   "cell_type": "markdown",
   "id": "b05561d9",
   "metadata": {},
   "source": [
    "# Strings:\n",
    "\n",
    "Strings are squenece of characters using either single quotes or double quotes. Python keep track of every elememt in a string as a sequence. Python understands the string a sequnece of characters or letters in a specific order that means we can use indexing. By indexing you can grab any letter from the string it is first letter or last letter.\n",
    "\"hello\"\n",
    " 01234"
   ]
  },
  {
   "cell_type": "code",
   "execution_count": 2,
   "id": "3a0b3e44",
   "metadata": {},
   "outputs": [
    {
     "data": {
      "text/plain": [
       "'hello'"
      ]
     },
     "execution_count": 2,
     "metadata": {},
     "output_type": "execute_result"
    }
   ],
   "source": [
    "'hello' # strings with single quote"
   ]
  },
  {
   "cell_type": "code",
   "execution_count": 3,
   "id": "b2c336e6",
   "metadata": {},
   "outputs": [
    {
     "data": {
      "text/plain": [
       "'hello'"
      ]
     },
     "execution_count": 3,
     "metadata": {},
     "output_type": "execute_result"
    }
   ],
   "source": [
    "\"hello\" # string with double quotes"
   ]
  },
  {
   "cell_type": "code",
   "execution_count": 4,
   "id": "0559fa32",
   "metadata": {},
   "outputs": [
    {
     "ename": "SyntaxError",
     "evalue": "invalid syntax (3685708443.py, line 1)",
     "output_type": "error",
     "traceback": [
      "\u001b[1;36m  Input \u001b[1;32mIn [4]\u001b[1;36m\u001b[0m\n\u001b[1;33m    'I'm somendra'\u001b[0m\n\u001b[1;37m       ^\u001b[0m\n\u001b[1;31mSyntaxError\u001b[0m\u001b[1;31m:\u001b[0m invalid syntax\n"
     ]
    }
   ],
   "source": [
    "'I'm somendra'"
   ]
  },
  {
   "cell_type": "code",
   "execution_count": 5,
   "id": "5b12b866",
   "metadata": {},
   "outputs": [
    {
     "data": {
      "text/plain": [
       "\"I'm somendra\""
      ]
     },
     "execution_count": 5,
     "metadata": {},
     "output_type": "execute_result"
    }
   ],
   "source": [
    "\"I'm somendra\""
   ]
  },
  {
   "cell_type": "markdown",
   "id": "c1cbf478",
   "metadata": {},
   "source": [
    "# Indexing \n",
    "\n",
    "1. Indexing represents position of character in a string.\n",
    "hello\n",
    "01234\n",
    "\n",
    "somendra\n",
    "01234567\n",
    "\n",
    "\n",
    "# Reverse Indexing:\n",
    "\n",
    "s  o  m  e  n  d   r  a \n",
    "0  -7   -6   -5   -4    -3   -2   -1  "
   ]
  },
  {
   "cell_type": "code",
   "execution_count": 6,
   "id": "04cf11c6",
   "metadata": {},
   "outputs": [],
   "source": [
    "name = \"somendra\""
   ]
  },
  {
   "cell_type": "code",
   "execution_count": 7,
   "id": "48c61ad4",
   "metadata": {},
   "outputs": [
    {
     "data": {
      "text/plain": [
       "'m'"
      ]
     },
     "execution_count": 7,
     "metadata": {},
     "output_type": "execute_result"
    }
   ],
   "source": [
    "name[2]"
   ]
  },
  {
   "cell_type": "code",
   "execution_count": 8,
   "id": "6ac005da",
   "metadata": {},
   "outputs": [
    {
     "data": {
      "text/plain": [
       "'a'"
      ]
     },
     "execution_count": 8,
     "metadata": {},
     "output_type": "execute_result"
    }
   ],
   "source": [
    "name[-1] # i got this with the help of reverse indexing "
   ]
  },
  {
   "cell_type": "code",
   "execution_count": 9,
   "id": "46a9e4e5",
   "metadata": {},
   "outputs": [
    {
     "data": {
      "text/plain": [
       "'a'"
      ]
     },
     "execution_count": 9,
     "metadata": {},
     "output_type": "execute_result"
    }
   ],
   "source": [
    "name[7] # i got this with the help of forwarding indexing "
   ]
  },
  {
   "cell_type": "markdown",
   "id": "a72e2216",
   "metadata": {},
   "source": [
    "# Printing a string\n",
    "\n",
    "Python provides you a built in function i.e. print()"
   ]
  },
  {
   "cell_type": "code",
   "execution_count": 10,
   "id": "f8c43303",
   "metadata": {},
   "outputs": [
    {
     "data": {
      "text/plain": [
       "'somendra'"
      ]
     },
     "execution_count": 10,
     "metadata": {},
     "output_type": "execute_result"
    }
   ],
   "source": [
    "name"
   ]
  },
  {
   "cell_type": "code",
   "execution_count": 11,
   "id": "438c9e00",
   "metadata": {},
   "outputs": [
    {
     "name": "stdout",
     "output_type": "stream",
     "text": [
      "somendra\n"
     ]
    }
   ],
   "source": [
    "print(name)"
   ]
  },
  {
   "cell_type": "code",
   "execution_count": 13,
   "id": "514aae53",
   "metadata": {},
   "outputs": [
    {
     "data": {
      "text/plain": [
       "'Hello I am somendra2'"
      ]
     },
     "execution_count": 13,
     "metadata": {},
     "output_type": "execute_result"
    }
   ],
   "source": [
    "\"Hello I am somendra\" # I got only the 2nd statement \n",
    "\"Hello I am somendra2\""
   ]
  },
  {
   "cell_type": "code",
   "execution_count": 15,
   "id": "c261bdff",
   "metadata": {},
   "outputs": [
    {
     "name": "stdout",
     "output_type": "stream",
     "text": [
      "Hello I am somendra\n",
      "Hello I am somendra2\n"
     ]
    }
   ],
   "source": [
    "print(\"Hello I am somendra\")\n",
    "print(\"Hello I am somendra2\")"
   ]
  }
 ],
 "metadata": {
  "kernelspec": {
   "display_name": "Python 3 (ipykernel)",
   "language": "python",
   "name": "python3"
  },
  "language_info": {
   "codemirror_mode": {
    "name": "ipython",
    "version": 3
   },
   "file_extension": ".py",
   "mimetype": "text/x-python",
   "name": "python",
   "nbconvert_exporter": "python",
   "pygments_lexer": "ipython3",
   "version": "3.9.12"
  }
 },
 "nbformat": 4,
 "nbformat_minor": 5
}
