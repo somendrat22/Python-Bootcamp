{
 "cells": [
  {
   "cell_type": "markdown",
   "id": "b05561d9",
   "metadata": {},
   "source": [
    "# Strings:\n",
    "\n",
    "Strings are squenece of characters using either single quotes or double quotes. Python keep track of every elememt in a string as a sequence. Python understands the string a sequnece of characters or letters in a specific order that means we can use indexing. By indexing you can grab any letter from the string it is first letter or last letter.\n",
    "\"hello\"\n",
    " 01234"
   ]
  },
  {
   "cell_type": "code",
   "execution_count": 2,
   "id": "3a0b3e44",
   "metadata": {},
   "outputs": [
    {
     "data": {
      "text/plain": [
       "'hello'"
      ]
     },
     "execution_count": 2,
     "metadata": {},
     "output_type": "execute_result"
    }
   ],
   "source": [
    "'hello' # strings with single quote"
   ]
  },
  {
   "cell_type": "code",
   "execution_count": 3,
   "id": "b2c336e6",
   "metadata": {},
   "outputs": [
    {
     "data": {
      "text/plain": [
       "'hello'"
      ]
     },
     "execution_count": 3,
     "metadata": {},
     "output_type": "execute_result"
    }
   ],
   "source": [
    "\"hello\" # string with double quotes"
   ]
  },
  {
   "cell_type": "code",
   "execution_count": 4,
   "id": "0559fa32",
   "metadata": {},
   "outputs": [
    {
     "ename": "SyntaxError",
     "evalue": "invalid syntax (3685708443.py, line 1)",
     "output_type": "error",
     "traceback": [
      "\u001b[1;36m  Input \u001b[1;32mIn [4]\u001b[1;36m\u001b[0m\n\u001b[1;33m    'I'm somendra'\u001b[0m\n\u001b[1;37m       ^\u001b[0m\n\u001b[1;31mSyntaxError\u001b[0m\u001b[1;31m:\u001b[0m invalid syntax\n"
     ]
    }
   ],
   "source": [
    "'I'm somendra'"
   ]
  },
  {
   "cell_type": "code",
   "execution_count": 5,
   "id": "5b12b866",
   "metadata": {},
   "outputs": [
    {
     "data": {
      "text/plain": [
       "\"I'm somendra\""
      ]
     },
     "execution_count": 5,
     "metadata": {},
     "output_type": "execute_result"
    }
   ],
   "source": [
    "\"I'm somendra\""
   ]
  },
  {
   "cell_type": "markdown",
   "id": "c1cbf478",
   "metadata": {},
   "source": [
    "# Indexing \n",
    "\n",
    "1. Indexing represents position of character in a string.\n",
    "hello\n",
    "01234\n",
    "\n",
    "somendra\n",
    "01234567\n",
    "\n",
    "\n",
    "# Reverse Indexing:\n",
    "\n",
    "s  o  m  e  n  d   r  a \n",
    "0  -7   -6   -5   -4    -3   -2   -1  "
   ]
  },
  {
   "cell_type": "code",
   "execution_count": 6,
   "id": "04cf11c6",
   "metadata": {},
   "outputs": [],
   "source": [
    "name = \"somendra\""
   ]
  },
  {
   "cell_type": "code",
   "execution_count": 7,
   "id": "48c61ad4",
   "metadata": {},
   "outputs": [
    {
     "data": {
      "text/plain": [
       "'m'"
      ]
     },
     "execution_count": 7,
     "metadata": {},
     "output_type": "execute_result"
    }
   ],
   "source": [
    "name[2]"
   ]
  },
  {
   "cell_type": "code",
   "execution_count": 8,
   "id": "6ac005da",
   "metadata": {},
   "outputs": [
    {
     "data": {
      "text/plain": [
       "'a'"
      ]
     },
     "execution_count": 8,
     "metadata": {},
     "output_type": "execute_result"
    }
   ],
   "source": [
    "name[-1] # i got this with the help of reverse indexing "
   ]
  },
  {
   "cell_type": "code",
   "execution_count": 9,
   "id": "46a9e4e5",
   "metadata": {},
   "outputs": [
    {
     "data": {
      "text/plain": [
       "'a'"
      ]
     },
     "execution_count": 9,
     "metadata": {},
     "output_type": "execute_result"
    }
   ],
   "source": [
    "name[7] # i got this with the help of forwarding indexing "
   ]
  },
  {
   "cell_type": "markdown",
   "id": "a72e2216",
   "metadata": {},
   "source": [
    "# Printing a string\n",
    "\n",
    "Python provides you a built in function i.e. print()"
   ]
  },
  {
   "cell_type": "code",
   "execution_count": 10,
   "id": "f8c43303",
   "metadata": {},
   "outputs": [
    {
     "data": {
      "text/plain": [
       "'somendra'"
      ]
     },
     "execution_count": 10,
     "metadata": {},
     "output_type": "execute_result"
    }
   ],
   "source": [
    "name"
   ]
  },
  {
   "cell_type": "code",
   "execution_count": 11,
   "id": "438c9e00",
   "metadata": {},
   "outputs": [
    {
     "name": "stdout",
     "output_type": "stream",
     "text": [
      "somendra\n"
     ]
    }
   ],
   "source": [
    "print(name)"
   ]
  },
  {
   "cell_type": "code",
   "execution_count": 13,
   "id": "514aae53",
   "metadata": {},
   "outputs": [
    {
     "data": {
      "text/plain": [
       "'Hello I am somendra2'"
      ]
     },
     "execution_count": 13,
     "metadata": {},
     "output_type": "execute_result"
    }
   ],
   "source": [
    "\"Hello I am somendra\" # I got only the 2nd statement \n",
    "\"Hello I am somendra2\""
   ]
  },
  {
   "cell_type": "code",
   "execution_count": 1,
   "id": "c261bdff",
   "metadata": {},
   "outputs": [
    {
     "name": "stdout",
     "output_type": "stream",
     "text": [
      "Hello I am somendra\n",
      "Hello I am somendra2\n"
     ]
    }
   ],
   "source": [
    "print(\"Hello I am somendra\")\n",
    "print(\"Hello I am somendra2\")"
   ]
  },
  {
   "cell_type": "markdown",
   "id": "83e829e9",
   "metadata": {},
   "source": [
    "\\n to print in new linw without writing print statement. We can add this in our string. The position where \\n is added my string will breaked up two lines. It is something like a enter buttton is pressed."
   ]
  },
  {
   "cell_type": "code",
   "execution_count": 2,
   "id": "d3ae4a6a",
   "metadata": {},
   "outputs": [
    {
     "data": {
      "text/plain": [
       "'hii i am \\n somendra'"
      ]
     },
     "execution_count": 2,
     "metadata": {},
     "output_type": "execute_result"
    }
   ],
   "source": [
    "\"hii i am \\n somendra\""
   ]
  },
  {
   "cell_type": "code",
   "execution_count": 6,
   "id": "6f185d31",
   "metadata": {},
   "outputs": [
    {
     "name": "stdout",
     "output_type": "stream",
     "text": [
      "hii i am \t somendra\n",
      "\n",
      "\n",
      "Enter got pressed\n"
     ]
    }
   ],
   "source": [
    "print(\"hii i am \\t somendra\") #/t will presss tab button for me \n",
    "print(\"\\n\")\n",
    "print(\"Enter got pressed\")"
   ]
  },
  {
   "cell_type": "markdown",
   "id": "d5090f87",
   "metadata": {},
   "source": [
    "# String Basics \n",
    "\n",
    "len() -> This function calculates length of a string "
   ]
  },
  {
   "cell_type": "code",
   "execution_count": 7,
   "id": "4490044d",
   "metadata": {},
   "outputs": [
    {
     "data": {
      "text/plain": [
       "8"
      ]
     },
     "execution_count": 7,
     "metadata": {},
     "output_type": "execute_result"
    }
   ],
   "source": [
    "len(\"somendra\") # indexing begin with 0 always and calculation of length begins with 1 "
   ]
  },
  {
   "cell_type": "code",
   "execution_count": 9,
   "id": "bf8564fb",
   "metadata": {},
   "outputs": [
    {
     "data": {
      "text/plain": [
       "14"
      ]
     },
     "execution_count": 9,
     "metadata": {},
     "output_type": "execute_result"
    }
   ],
   "source": [
    "len(\"maseta student\") # python calculates length including the spaces including panchuation all the things "
   ]
  },
  {
   "cell_type": "code",
   "execution_count": 1,
   "id": "21079381",
   "metadata": {},
   "outputs": [],
   "source": [
    "newString = \"Hello World\" # Hello , World"
   ]
  },
  {
   "cell_type": "markdown",
   "id": "fb654330",
   "metadata": {},
   "source": [
    "s[start:end:steps] "
   ]
  },
  {
   "cell_type": "code",
   "execution_count": 6,
   "id": "0e3e47df",
   "metadata": {},
   "outputs": [
    {
     "data": {
      "text/plain": [
       "'llo Wo'"
      ]
     },
     "execution_count": 6,
     "metadata": {},
     "output_type": "execute_result"
    }
   ],
   "source": [
    "newString[2:8]"
   ]
  },
  {
   "cell_type": "code",
   "execution_count": 7,
   "id": "720308f6",
   "metadata": {},
   "outputs": [
    {
     "data": {
      "text/plain": [
       "'Hello World'"
      ]
     },
     "execution_count": 7,
     "metadata": {},
     "output_type": "execute_result"
    }
   ],
   "source": [
    "newString[:]"
   ]
  },
  {
   "cell_type": "code",
   "execution_count": 9,
   "id": "ae17980b",
   "metadata": {},
   "outputs": [
    {
     "data": {
      "text/plain": [
       "'Hello Worl'"
      ]
     },
     "execution_count": 9,
     "metadata": {},
     "output_type": "execute_result"
    }
   ],
   "source": [
    "newString[0:-1]"
   ]
  },
  {
   "cell_type": "code",
   "execution_count": 11,
   "id": "9122c9c6",
   "metadata": {},
   "outputs": [
    {
     "data": {
      "text/plain": [
       "'Hell'"
      ]
     },
     "execution_count": 11,
     "metadata": {},
     "output_type": "execute_result"
    }
   ],
   "source": [
    "newString[:4] # when we don't pass starting index it takes by default value as 0"
   ]
  },
  {
   "cell_type": "code",
   "execution_count": 18,
   "id": "0310836b",
   "metadata": {},
   "outputs": [
    {
     "data": {
      "text/plain": [
       "'Hello World'"
      ]
     },
     "execution_count": 18,
     "metadata": {},
     "output_type": "execute_result"
    }
   ],
   "source": [
    "newString[0:] # If we don't pass the ending index it will take by default value as length of the string"
   ]
  },
  {
   "cell_type": "code",
   "execution_count": 19,
   "id": "21a16d62",
   "metadata": {},
   "outputs": [
    {
     "data": {
      "text/plain": [
       "'0123456789 10 11 12 13'"
      ]
     },
     "execution_count": 19,
     "metadata": {},
     "output_type": "execute_result"
    }
   ],
   "source": [
    "\"newstringi s  t  e  n\"\n",
    "\"0123456789 10 11 12 13\""
   ]
  },
  {
   "cell_type": "code",
   "execution_count": 20,
   "id": "89f9274b",
   "metadata": {},
   "outputs": [
    {
     "data": {
      "text/plain": [
       "14"
      ]
     },
     "execution_count": 20,
     "metadata": {},
     "output_type": "execute_result"
    }
   ],
   "source": [
    "len(\"newstringisten\")"
   ]
  },
  {
   "cell_type": "code",
   "execution_count": 4,
   "id": "9f7656bd",
   "metadata": {},
   "outputs": [],
   "source": [
    "newStr = \"newstringisten\""
   ]
  },
  {
   "cell_type": "code",
   "execution_count": 5,
   "id": "c6233ed8",
   "metadata": {},
   "outputs": [
    {
     "data": {
      "text/plain": [
       "'newstring'"
      ]
     },
     "execution_count": 5,
     "metadata": {},
     "output_type": "execute_result"
    }
   ],
   "source": [
    "newStr[:9]"
   ]
  },
  {
   "cell_type": "code",
   "execution_count": 6,
   "id": "9e30c7ed",
   "metadata": {},
   "outputs": [
    {
     "data": {
      "text/plain": [
       "'nwt'"
      ]
     },
     "execution_count": 6,
     "metadata": {},
     "output_type": "execute_result"
    }
   ],
   "source": [
    "newStr[0:5:2]"
   ]
  },
  {
   "cell_type": "code",
   "execution_count": null,
   "id": "5d7b7afd",
   "metadata": {},
   "outputs": [],
   "source": []
  }
 ],
 "metadata": {
  "kernelspec": {
   "display_name": "Python 3 (ipykernel)",
   "language": "python",
   "name": "python3"
  },
  "language_info": {
   "codemirror_mode": {
    "name": "ipython",
    "version": 3
   },
   "file_extension": ".py",
   "mimetype": "text/x-python",
   "name": "python",
   "nbconvert_exporter": "python",
   "pygments_lexer": "ipython3",
   "version": "3.9.12"
  }
 },
 "nbformat": 4,
 "nbformat_minor": 5
}
