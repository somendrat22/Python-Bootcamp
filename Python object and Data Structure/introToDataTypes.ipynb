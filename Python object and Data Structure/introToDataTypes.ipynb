{
 "cells": [
  {
   "cell_type": "markdown",
   "id": "ae1de229",
   "metadata": {},
   "source": [
    "# DataTypes :\n",
    "\n",
    "Integer - int : - 3, 300, 200, -1, -5 (Whole Number)\n",
    "Floating Point : -2.3, 2.3\n",
    "String : \"name\" ordered sequence of characters\n",
    "booleans : bool -> true or false\n",
    "\n",
    "# Datastructure:\n",
    "\n",
    "Datastructure are something which stores objects or mapping in it and it is specialized data type also. \n",
    "\n",
    "list : list  -> ordered sequence of objects. ex [2, 1, 2, \"name\", 2.3, 2], llists[0] = 2\n",
    "\n",
    "dictionary : dict keywoard,  {\"key\" : \"value\"}, {\"India\" : \"Delhi\", \"USA\" : \"Washington DC\"}\n",
    "\n",
    "Tuples : tup -> (10, \"20\", \"hello\"), It is immutable.\n",
    "\n",
    "Sets :  set - >{a, b, c}. Unordered collection of unique objects.\n",
    "\n",
    "\n",
    "\n",
    "\n"
   ]
  }
 ],
 "metadata": {
  "kernelspec": {
   "display_name": "Python 3 (ipykernel)",
   "language": "python",
   "name": "python3"
  },
  "language_info": {
   "codemirror_mode": {
    "name": "ipython",
    "version": 3
   },
   "file_extension": ".py",
   "mimetype": "text/x-python",
   "name": "python",
   "nbconvert_exporter": "python",
   "pygments_lexer": "ipython3",
   "version": "3.9.12"
  }
 },
 "nbformat": 4,
 "nbformat_minor": 5
}
