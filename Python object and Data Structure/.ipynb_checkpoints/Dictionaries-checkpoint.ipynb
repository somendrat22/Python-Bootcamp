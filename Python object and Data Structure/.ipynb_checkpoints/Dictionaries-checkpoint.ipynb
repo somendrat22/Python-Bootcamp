{
 "cells": [
  {
   "cell_type": "markdown",
   "id": "1f4fc040",
   "metadata": {},
   "source": [
    "# Dictionaries\n",
    "\n",
    "India -> Delhi, Mumbai, Kolkata, Jamshedpur  \n",
    "USA -> Washington DC\n",
    "\n",
    "[India, USA]\n",
    "0       1\n",
    "\n",
    "\n",
    "Mapping are a collection of objects that are stored by a key, unlike a sequence that stored objects by there relative position.  This a important distinction, since mapping won't retain order since they have object defined by key."
   ]
  },
  {
   "cell_type": "markdown",
   "id": "28b6d50e",
   "metadata": {},
   "source": [
    "# Construction of dictionaries "
   ]
  },
  {
   "cell_type": "code",
   "execution_count": 1,
   "id": "fb71b912",
   "metadata": {},
   "outputs": [],
   "source": [
    "my_dict = {\"key1\" : \"value1\", \"key2\" : \"value2\"}"
   ]
  },
  {
   "cell_type": "code",
   "execution_count": 3,
   "id": "7919bed2",
   "metadata": {},
   "outputs": [
    {
     "data": {
      "text/plain": [
       "'value2'"
      ]
     },
     "execution_count": 3,
     "metadata": {},
     "output_type": "execute_result"
    }
   ],
   "source": [
    "my_dict[\"key2\"]"
   ]
  },
  {
   "cell_type": "code",
   "execution_count": 5,
   "id": "9b4ae4d2",
   "metadata": {},
   "outputs": [],
   "source": [
    "# Dictionaries are flexible in the data types they can hold.\n",
    "\n",
    "my_dict = {\"key1\" : 123, \"key2\" :  [12, 22, 33], \"key3\" : [\"maseta\", \"somendra\", \"nidhi\"]}"
   ]
  },
  {
   "cell_type": "code",
   "execution_count": 6,
   "id": "49039369",
   "metadata": {},
   "outputs": [
    {
     "data": {
      "text/plain": [
       "['maseta', 'somendra', 'nidhi']"
      ]
     },
     "execution_count": 6,
     "metadata": {},
     "output_type": "execute_result"
    }
   ],
   "source": [
    "my_dict[\"key3\"] "
   ]
  },
  {
   "cell_type": "code",
   "execution_count": 9,
   "id": "6aa3c128",
   "metadata": {},
   "outputs": [
    {
     "data": {
      "text/plain": [
       "'nidhi'"
      ]
     },
     "execution_count": 9,
     "metadata": {},
     "output_type": "execute_result"
    }
   ],
   "source": [
    "my_dict[\"key3\"][2]"
   ]
  },
  {
   "cell_type": "code",
   "execution_count": 11,
   "id": "56c8e472",
   "metadata": {},
   "outputs": [
    {
     "data": {
      "text/plain": [
       "'NIDHI'"
      ]
     },
     "execution_count": 11,
     "metadata": {},
     "output_type": "execute_result"
    }
   ],
   "source": [
    "my_dict[\"key3\"][2].upper()"
   ]
  },
  {
   "cell_type": "code",
   "execution_count": 12,
   "id": "aed07b3b",
   "metadata": {},
   "outputs": [],
   "source": [
    "# In dictionaries we can affect the values of the keys \n",
    "\n",
    "my_dict[\"key1\"] = 200"
   ]
  },
  {
   "cell_type": "code",
   "execution_count": 13,
   "id": "75961f09",
   "metadata": {},
   "outputs": [
    {
     "data": {
      "text/plain": [
       "200"
      ]
     },
     "execution_count": 13,
     "metadata": {},
     "output_type": "execute_result"
    }
   ],
   "source": [
    "my_dict[\"key1\"]"
   ]
  },
  {
   "cell_type": "code",
   "execution_count": 14,
   "id": "391b97af",
   "metadata": {},
   "outputs": [],
   "source": [
    "my_dict[\"key1\"] = my_dict[\"key1\"] + 1"
   ]
  },
  {
   "cell_type": "code",
   "execution_count": 15,
   "id": "50422655",
   "metadata": {},
   "outputs": [
    {
     "data": {
      "text/plain": [
       "201"
      ]
     },
     "execution_count": 15,
     "metadata": {},
     "output_type": "execute_result"
    }
   ],
   "source": [
    "my_dict[\"key1\"]"
   ]
  },
  {
   "cell_type": "code",
   "execution_count": 18,
   "id": "a9214455",
   "metadata": {},
   "outputs": [],
   "source": [
    "# Python provides some built in function for self subtraction and self addition \n",
    "# my_dict[\"key1\"] = my_dict[\"key1\"] - 12\n",
    "my_dict[\"key1\"] -= 12"
   ]
  },
  {
   "cell_type": "code",
   "execution_count": 19,
   "id": "0f808a0c",
   "metadata": {},
   "outputs": [
    {
     "data": {
      "text/plain": [
       "188"
      ]
     },
     "execution_count": 19,
     "metadata": {},
     "output_type": "execute_result"
    }
   ],
   "source": [
    "my_dict[\"key1\"]"
   ]
  },
  {
   "cell_type": "code",
   "execution_count": 20,
   "id": "a1163124",
   "metadata": {},
   "outputs": [],
   "source": [
    "my_dict[\"key1\"] += 12"
   ]
  },
  {
   "cell_type": "code",
   "execution_count": 21,
   "id": "61fbe180",
   "metadata": {},
   "outputs": [],
   "source": [
    "my_dict = {} # By assignment we can create key value pairs in dict"
   ]
  },
  {
   "cell_type": "code",
   "execution_count": 22,
   "id": "6e390f62",
   "metadata": {},
   "outputs": [],
   "source": [
    "my_dict[\"India\"] = \"Delhi\""
   ]
  },
  {
   "cell_type": "code",
   "execution_count": 23,
   "id": "a1504f91",
   "metadata": {},
   "outputs": [
    {
     "data": {
      "text/plain": [
       "{'India': 'Delhi'}"
      ]
     },
     "execution_count": 23,
     "metadata": {},
     "output_type": "execute_result"
    }
   ],
   "source": [
    "my_dict"
   ]
  },
  {
   "cell_type": "code",
   "execution_count": 24,
   "id": "a9976a09",
   "metadata": {},
   "outputs": [],
   "source": [
    "my_dict[\"key2\"] = [1, 2, 3, 4]"
   ]
  },
  {
   "cell_type": "code",
   "execution_count": 25,
   "id": "f41ce028",
   "metadata": {},
   "outputs": [
    {
     "data": {
      "text/plain": [
       "{'India': 'Delhi', 'key2': [1, 2, 3, 4]}"
      ]
     },
     "execution_count": 25,
     "metadata": {},
     "output_type": "execute_result"
    }
   ],
   "source": [
    "my_dict"
   ]
  },
  {
   "cell_type": "code",
   "execution_count": 26,
   "id": "1e12cf61",
   "metadata": {},
   "outputs": [],
   "source": [
    "my_dict[\"animals\"] = [\"dogs\", \"cats\"]"
   ]
  },
  {
   "cell_type": "code",
   "execution_count": 27,
   "id": "3783e5cb",
   "metadata": {},
   "outputs": [
    {
     "data": {
      "text/plain": [
       "{'India': 'Delhi', 'key2': [1, 2, 3, 4], 'animals': ['dogs', 'cats']}"
      ]
     },
     "execution_count": 27,
     "metadata": {},
     "output_type": "execute_result"
    }
   ],
   "source": [
    "my_dict"
   ]
  },
  {
   "cell_type": "markdown",
   "id": "605ff62b",
   "metadata": {},
   "source": [
    "# Nesting With Dictionaries "
   ]
  },
  {
   "cell_type": "code",
   "execution_count": 28,
   "id": "e205717f",
   "metadata": {},
   "outputs": [],
   "source": [
    "my_dict = {\"key1\" : {\"nestedKey1\" : {\"nestedKey2\" : \"maseta\"}}}"
   ]
  },
  {
   "cell_type": "code",
   "execution_count": 34,
   "id": "12aa90ed",
   "metadata": {},
   "outputs": [
    {
     "data": {
      "text/plain": [
       "'maseta'"
      ]
     },
     "execution_count": 34,
     "metadata": {},
     "output_type": "execute_result"
    }
   ],
   "source": [
    "my_dict[\"key1\"][\"nestedKey1\"][\"nestedKey2\"]"
   ]
  },
  {
   "cell_type": "markdown",
   "id": "d47f47d9",
   "metadata": {},
   "source": [
    " # Dictionaries Built in function"
   ]
  },
  {
   "cell_type": "code",
   "execution_count": 35,
   "id": "2eb5b2cb",
   "metadata": {},
   "outputs": [],
   "source": [
    "my_dict = {\"key1\" : 1, \"key2\" : 2, \"key3\" : 3}"
   ]
  },
  {
   "cell_type": "code",
   "execution_count": 36,
   "id": "38c28d03",
   "metadata": {},
   "outputs": [
    {
     "data": {
      "text/plain": [
       "dict_keys(['key1', 'key2', 'key3'])"
      ]
     },
     "execution_count": 36,
     "metadata": {},
     "output_type": "execute_result"
    }
   ],
   "source": [
    "# We have a built in method in dictionaries that brings all keys to us. keys() is the built in method\n",
    "\n",
    "my_dict.keys()"
   ]
  },
  {
   "cell_type": "code",
   "execution_count": 37,
   "id": "40d9e614",
   "metadata": {},
   "outputs": [
    {
     "data": {
      "text/plain": [
       "dict_values([1, 2, 3])"
      ]
     },
     "execution_count": 37,
     "metadata": {},
     "output_type": "execute_result"
    }
   ],
   "source": [
    "# values() are the another built in method that bring us all the values that are present in my dictionary \n",
    "\n",
    "my_dict.values()"
   ]
  },
  {
   "cell_type": "code",
   "execution_count": 38,
   "id": "4922f7e0",
   "metadata": {},
   "outputs": [
    {
     "data": {
      "text/plain": [
       "dict_items([('key1', 1), ('key2', 2), ('key3', 3)])"
      ]
     },
     "execution_count": 38,
     "metadata": {},
     "output_type": "execute_result"
    }
   ],
   "source": [
    "# items() it brings all the items that are present in my dictionary \n",
    "\n",
    "my_dict.items()"
   ]
  }
 ],
 "metadata": {
  "kernelspec": {
   "display_name": "Python 3 (ipykernel)",
   "language": "python",
   "name": "python3"
  },
  "language_info": {
   "codemirror_mode": {
    "name": "ipython",
    "version": 3
   },
   "file_extension": ".py",
   "mimetype": "text/x-python",
   "name": "python",
   "nbconvert_exporter": "python",
   "pygments_lexer": "ipython3",
   "version": "3.9.12"
  }
 },
 "nbformat": 4,
 "nbformat_minor": 5
}
