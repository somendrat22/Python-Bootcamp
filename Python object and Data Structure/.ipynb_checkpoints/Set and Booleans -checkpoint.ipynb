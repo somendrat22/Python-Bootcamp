{
 "cells": [
  {
   "cell_type": "markdown",
   "id": "74bc1761",
   "metadata": {},
   "source": [
    "# Sets \n",
    "\n",
    "Sets are unordered collections of unique elements. "
   ]
  },
  {
   "cell_type": "code",
   "execution_count": 1,
   "id": "cf1cd97b",
   "metadata": {},
   "outputs": [],
   "source": [
    "#Syntax \n",
    "\n",
    "newSet = set()"
   ]
  },
  {
   "cell_type": "code",
   "execution_count": 3,
   "id": "6d2f1fc0",
   "metadata": {},
   "outputs": [],
   "source": [
    "newSet.add(1)"
   ]
  },
  {
   "cell_type": "code",
   "execution_count": 4,
   "id": "e6708f97",
   "metadata": {},
   "outputs": [
    {
     "data": {
      "text/plain": [
       "{1}"
      ]
     },
     "execution_count": 4,
     "metadata": {},
     "output_type": "execute_result"
    }
   ],
   "source": [
    "newSet"
   ]
  },
  {
   "cell_type": "markdown",
   "id": "4cb63083",
   "metadata": {},
   "source": [
    "This does not indicate a dictionary. Although we can draw analogies as a set being a dictionary with only keys."
   ]
  },
  {
   "cell_type": "code",
   "execution_count": 8,
   "id": "c0902a87",
   "metadata": {},
   "outputs": [
    {
     "data": {
      "text/plain": [
       "{1, 2, 3, 4}"
      ]
     },
     "execution_count": 8,
     "metadata": {},
     "output_type": "execute_result"
    }
   ],
   "source": [
    "list1 = [1,2,3,4, 1,2]\n",
    "set(list1)"
   ]
  },
  {
   "cell_type": "markdown",
   "id": "3d44b562",
   "metadata": {},
   "source": [
    "# Booleans \n",
    "\n",
    "Python comes with booleans that represent just a True or False value. It Basically represents Integer 1 & 0. In python there is a placeholder created that is none"
   ]
  },
  {
   "cell_type": "code",
   "execution_count": 9,
   "id": "f94a5e4e",
   "metadata": {},
   "outputs": [],
   "source": [
    "a = True"
   ]
  },
  {
   "cell_type": "code",
   "execution_count": 10,
   "id": "ed1ef96e",
   "metadata": {},
   "outputs": [
    {
     "data": {
      "text/plain": [
       "True"
      ]
     },
     "execution_count": 10,
     "metadata": {},
     "output_type": "execute_result"
    }
   ],
   "source": [
    "a "
   ]
  },
  {
   "cell_type": "code",
   "execution_count": 11,
   "id": "33384edb",
   "metadata": {},
   "outputs": [
    {
     "data": {
      "text/plain": [
       "False"
      ]
     },
     "execution_count": 11,
     "metadata": {},
     "output_type": "execute_result"
    }
   ],
   "source": [
    "1 > 2"
   ]
  },
  {
   "cell_type": "code",
   "execution_count": 12,
   "id": "4175955e",
   "metadata": {},
   "outputs": [],
   "source": [
    "b = None "
   ]
  },
  {
   "cell_type": "code",
   "execution_count": 13,
   "id": "78f1cef2",
   "metadata": {},
   "outputs": [],
   "source": [
    "b"
   ]
  },
  {
   "cell_type": "code",
   "execution_count": 14,
   "id": "0da4c096",
   "metadata": {},
   "outputs": [
    {
     "name": "stdout",
     "output_type": "stream",
     "text": [
      "None\n"
     ]
    }
   ],
   "source": [
    "print(b)"
   ]
  }
 ],
 "metadata": {
  "kernelspec": {
   "display_name": "Python 3 (ipykernel)",
   "language": "python",
   "name": "python3"
  },
  "language_info": {
   "codemirror_mode": {
    "name": "ipython",
    "version": 3
   },
   "file_extension": ".py",
   "mimetype": "text/x-python",
   "name": "python",
   "nbconvert_exporter": "python",
   "pygments_lexer": "ipython3",
   "version": "3.9.12"
  }
 },
 "nbformat": 4,
 "nbformat_minor": 5
}
