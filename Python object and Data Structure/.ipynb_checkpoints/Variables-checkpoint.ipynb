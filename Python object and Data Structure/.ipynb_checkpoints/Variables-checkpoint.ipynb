{
 "cells": [
  {
   "cell_type": "markdown",
   "id": "65f21daa",
   "metadata": {},
   "source": [
    "# Variables\n",
    "\n",
    "It is something to refer different objects & Datastructure"
   ]
  },
  {
   "cell_type": "code",
   "execution_count": 1,
   "id": "c9297b18",
   "metadata": {},
   "outputs": [],
   "source": [
    "a = 5"
   ]
  },
  {
   "cell_type": "code",
   "execution_count": 2,
   "id": "4a0c4082",
   "metadata": {},
   "outputs": [
    {
     "data": {
      "text/plain": [
       "5"
      ]
     },
     "execution_count": 2,
     "metadata": {},
     "output_type": "execute_result"
    }
   ],
   "source": [
    "a"
   ]
  },
  {
   "cell_type": "code",
   "execution_count": 3,
   "id": "fed85cb0",
   "metadata": {},
   "outputs": [
    {
     "data": {
      "text/plain": [
       "10"
      ]
     },
     "execution_count": 3,
     "metadata": {},
     "output_type": "execute_result"
    }
   ],
   "source": [
    "a + a"
   ]
  },
  {
   "cell_type": "code",
   "execution_count": 4,
   "id": "8f37fb80",
   "metadata": {},
   "outputs": [],
   "source": [
    "a = 6 # we can do reassignment also "
   ]
  },
  {
   "cell_type": "code",
   "execution_count": 5,
   "id": "1ca390ab",
   "metadata": {},
   "outputs": [
    {
     "data": {
      "text/plain": [
       "6"
      ]
     },
     "execution_count": 5,
     "metadata": {},
     "output_type": "execute_result"
    }
   ],
   "source": [
    "a"
   ]
  },
  {
   "cell_type": "code",
   "execution_count": 6,
   "id": "b7225d18",
   "metadata": {},
   "outputs": [],
   "source": [
    "a = a + a # we can redefine a with a"
   ]
  },
  {
   "cell_type": "code",
   "execution_count": 7,
   "id": "0096d11d",
   "metadata": {},
   "outputs": [
    {
     "data": {
      "text/plain": [
       "12"
      ]
     },
     "execution_count": 7,
     "metadata": {},
     "output_type": "execute_result"
    }
   ],
   "source": [
    "a "
   ]
  },
  {
   "cell_type": "markdown",
   "id": "051a621a",
   "metadata": {},
   "source": [
    "# Rules For creating a variable:\n",
    "\n",
    "1. Names can not start with number. For ex: 9a \n",
    "2. There should be no spaces between the variable name. my name, myName, my_name, you can use underscore to replace spaces.\n",
    "3. you can not use special symbols \", ,<><>, $, %, ^&,*\"\n",
    "4. you should create a variable camel case format: mySchoolName.\n",
    "5. Avoid using keywords that special meaning in python. list, str, if, for\n",
    "6. AVoid using l (small L), uppercase O, and I (uppercase I). It will create confusion with 0 & 1"
   ]
  },
  {
   "cell_type": "code",
   "execution_count": 8,
   "id": "a83333f3",
   "metadata": {},
   "outputs": [
    {
     "ename": "SyntaxError",
     "evalue": "invalid syntax (1095206054.py, line 1)",
     "output_type": "error",
     "traceback": [
      "\u001b[1;36m  Input \u001b[1;32mIn [8]\u001b[1;36m\u001b[0m\n\u001b[1;33m    if = a\u001b[0m\n\u001b[1;37m       ^\u001b[0m\n\u001b[1;31mSyntaxError\u001b[0m\u001b[1;31m:\u001b[0m invalid syntax\n"
     ]
    }
   ],
   "source": [
    "if = a"
   ]
  },
  {
   "cell_type": "code",
   "execution_count": 9,
   "id": "3c63400d",
   "metadata": {},
   "outputs": [],
   "source": [
    "list = 5 # avoidf using python keywords as variables "
   ]
  },
  {
   "cell_type": "code",
   "execution_count": 10,
   "id": "0b921de7",
   "metadata": {},
   "outputs": [
    {
     "data": {
      "text/plain": [
       "5"
      ]
     },
     "execution_count": 10,
     "metadata": {},
     "output_type": "execute_result"
    }
   ],
   "source": [
    "list"
   ]
  },
  {
   "cell_type": "code",
   "execution_count": 14,
   "id": "dcb57db7",
   "metadata": {},
   "outputs": [],
   "source": [
    "myIncome = 100\n",
    "\n",
    "taxRate = 0.1\n",
    "\n",
    "myTaxes = myIncome * taxRate"
   ]
  },
  {
   "cell_type": "code",
   "execution_count": 15,
   "id": "8b0b9774",
   "metadata": {},
   "outputs": [
    {
     "data": {
      "text/plain": [
       "10.0"
      ]
     },
     "execution_count": 15,
     "metadata": {},
     "output_type": "execute_result"
    }
   ],
   "source": [
    "myTaxes"
   ]
  },
  {
   "cell_type": "markdown",
   "id": "fc4ee9d0",
   "metadata": {},
   "source": [
    "# Dynamic Typing\n",
    "\n",
    "It means you can reassign variables to different datatypes. Other Languages are statically typed"
   ]
  },
  {
   "cell_type": "code",
   "execution_count": 17,
   "id": "48d8a913",
   "metadata": {},
   "outputs": [],
   "source": [
    "myBiscuits = 2 # here you assigned an integer datatype into variable myBiscuits"
   ]
  },
  {
   "cell_type": "code",
   "execution_count": 18,
   "id": "8dccb88c",
   "metadata": {},
   "outputs": [
    {
     "data": {
      "text/plain": [
       "2"
      ]
     },
     "execution_count": 18,
     "metadata": {},
     "output_type": "execute_result"
    }
   ],
   "source": [
    "myBiscuits"
   ]
  },
  {
   "cell_type": "code",
   "execution_count": 19,
   "id": "43784574",
   "metadata": {},
   "outputs": [],
   "source": [
    "myBiscuits = [\"ParleG\", \"Bonn Bonn\"] # Trying to assign a list datatype "
   ]
  },
  {
   "cell_type": "code",
   "execution_count": 20,
   "id": "5120d729",
   "metadata": {},
   "outputs": [
    {
     "data": {
      "text/plain": [
       "['ParleG', 'Bonn Bonn']"
      ]
     },
     "execution_count": 20,
     "metadata": {},
     "output_type": "execute_result"
    }
   ],
   "source": [
    "myBiscuits"
   ]
  },
  {
   "cell_type": "markdown",
   "id": "a2094b6f",
   "metadata": {},
   "source": [
    "int a = 5 // a is a integer variable \n",
    "\n",
    "a = new int[5] // now you are trying to assigning a array into integer variable \n",
    "\n",
    "// This will give you error in java "
   ]
  },
  {
   "cell_type": "markdown",
   "id": "3a2b915b",
   "metadata": {},
   "source": [
    "# Pros & Cons of Dynamic Typing \n",
    "\n",
    "## Pros:\n",
    "\n",
    "1. Coding becomes easy \n",
    "2. You don't need to create variables again and again. It will save your time \n",
    "\n",
    "## cons:\n",
    "\n",
    "1. may result in unexpected bug\n",
    "2. you need to be aware of type "
   ]
  },
  {
   "cell_type": "code",
   "execution_count": 21,
   "id": "7f16240e",
   "metadata": {},
   "outputs": [],
   "source": [
    "# In python you have a built in function i.e. type()"
   ]
  },
  {
   "cell_type": "code",
   "execution_count": 22,
   "id": "295356fc",
   "metadata": {},
   "outputs": [
    {
     "data": {
      "text/plain": [
       "list"
      ]
     },
     "execution_count": 22,
     "metadata": {},
     "output_type": "execute_result"
    }
   ],
   "source": [
    "type(myBiscuits)"
   ]
  },
  {
   "cell_type": "code",
   "execution_count": 28,
   "id": "3bf03476",
   "metadata": {},
   "outputs": [],
   "source": [
    "myBiscuits = True"
   ]
  },
  {
   "cell_type": "code",
   "execution_count": 29,
   "id": "1ac90491",
   "metadata": {},
   "outputs": [
    {
     "data": {
      "text/plain": [
       "bool"
      ]
     },
     "execution_count": 29,
     "metadata": {},
     "output_type": "execute_result"
    }
   ],
   "source": [
    "type(myBiscuits)"
   ]
  }
 ],
 "metadata": {
  "kernelspec": {
   "display_name": "Python 3 (ipykernel)",
   "language": "python",
   "name": "python3"
  },
  "language_info": {
   "codemirror_mode": {
    "name": "ipython",
    "version": 3
   },
   "file_extension": ".py",
   "mimetype": "text/x-python",
   "name": "python",
   "nbconvert_exporter": "python",
   "pygments_lexer": "ipython3",
   "version": "3.9.12"
  }
 },
 "nbformat": 4,
 "nbformat_minor": 5
}
