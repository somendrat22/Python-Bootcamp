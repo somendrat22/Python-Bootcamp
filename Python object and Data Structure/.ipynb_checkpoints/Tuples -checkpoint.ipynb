{
 "cells": [
  {
   "cell_type": "markdown",
   "id": "b827738b",
   "metadata": {},
   "source": [
    "# Tuples \n",
    "\n",
    "In python tuples are very similar to lists, unlike lists they are immutable meaning they can not be changed. We use tuples where things should not be changed. such as numner of planets."
   ]
  },
  {
   "cell_type": "code",
   "execution_count": 1,
   "id": "e9f31e3d",
   "metadata": {},
   "outputs": [],
   "source": [
    "# Construction of tuples \n",
    "\n",
    "tup = (1, 2, 3)"
   ]
  },
  {
   "cell_type": "code",
   "execution_count": 2,
   "id": "035c3b38",
   "metadata": {},
   "outputs": [
    {
     "data": {
      "text/plain": [
       "3"
      ]
     },
     "execution_count": 2,
     "metadata": {},
     "output_type": "execute_result"
    }
   ],
   "source": [
    "len(tup)"
   ]
  },
  {
   "cell_type": "code",
   "execution_count": 3,
   "id": "31fb17bd",
   "metadata": {},
   "outputs": [],
   "source": [
    "tup = (\"somendra\", \"maseta\") "
   ]
  },
  {
   "cell_type": "code",
   "execution_count": 4,
   "id": "5d125e8a",
   "metadata": {},
   "outputs": [
    {
     "data": {
      "text/plain": [
       "1"
      ]
     },
     "execution_count": 4,
     "metadata": {},
     "output_type": "execute_result"
    }
   ],
   "source": [
    "tup.index(\"maseta\")"
   ]
  },
  {
   "cell_type": "code",
   "execution_count": 5,
   "id": "09337735",
   "metadata": {},
   "outputs": [
    {
     "data": {
      "text/plain": [
       "6"
      ]
     },
     "execution_count": 5,
     "metadata": {},
     "output_type": "execute_result"
    }
   ],
   "source": [
    "len(tup[1])"
   ]
  },
  {
   "cell_type": "code",
   "execution_count": 7,
   "id": "464ff68d",
   "metadata": {},
   "outputs": [
    {
     "data": {
      "text/plain": [
       "(3, 4, 5, 6, 7)"
      ]
     },
     "execution_count": 7,
     "metadata": {},
     "output_type": "execute_result"
    }
   ],
   "source": [
    "tup = (1, 2, 3, 4, 5, 6, 7, 8)\n",
    "tup[2:7]"
   ]
  },
  {
   "cell_type": "code",
   "execution_count": 8,
   "id": "2862f8fa",
   "metadata": {},
   "outputs": [],
   "source": [
    "tup = (1, 1, 1, 2, 3, 4, 1, 6, 7, 1)"
   ]
  },
  {
   "cell_type": "code",
   "execution_count": 10,
   "id": "46a2079b",
   "metadata": {},
   "outputs": [
    {
     "data": {
      "text/plain": [
       "5"
      ]
     },
     "execution_count": 10,
     "metadata": {},
     "output_type": "execute_result"
    }
   ],
   "source": [
    "tup.count(1)"
   ]
  },
  {
   "cell_type": "code",
   "execution_count": 11,
   "id": "4a81683d",
   "metadata": {},
   "outputs": [
    {
     "ename": "AttributeError",
     "evalue": "'tuple' object has no attribute 'sort'",
     "output_type": "error",
     "traceback": [
      "\u001b[1;31m---------------------------------------------------------------------------\u001b[0m",
      "\u001b[1;31mAttributeError\u001b[0m                            Traceback (most recent call last)",
      "Input \u001b[1;32mIn [11]\u001b[0m, in \u001b[0;36m<cell line: 1>\u001b[1;34m()\u001b[0m\n\u001b[1;32m----> 1\u001b[0m \u001b[43mtup\u001b[49m\u001b[38;5;241;43m.\u001b[39;49m\u001b[43msort\u001b[49m()\n",
      "\u001b[1;31mAttributeError\u001b[0m: 'tuple' object has no attribute 'sort'"
     ]
    }
   ],
   "source": [
    "tup.sort()"
   ]
  },
  {
   "cell_type": "code",
   "execution_count": 12,
   "id": "388d8a4c",
   "metadata": {},
   "outputs": [],
   "source": [
    "tup = (\"somendra\", \"maseta\")"
   ]
  },
  {
   "cell_type": "code",
   "execution_count": 13,
   "id": "ad2cb386",
   "metadata": {},
   "outputs": [
    {
     "ename": "TypeError",
     "evalue": "'tuple' object does not support item assignment",
     "output_type": "error",
     "traceback": [
      "\u001b[1;31m---------------------------------------------------------------------------\u001b[0m",
      "\u001b[1;31mTypeError\u001b[0m                                 Traceback (most recent call last)",
      "Input \u001b[1;32mIn [13]\u001b[0m, in \u001b[0;36m<cell line: 1>\u001b[1;34m()\u001b[0m\n\u001b[1;32m----> 1\u001b[0m tup[\u001b[38;5;241m0\u001b[39m] \u001b[38;5;241m=\u001b[39m \u001b[38;5;124m\"\u001b[39m\u001b[38;5;124mnidhi\u001b[39m\u001b[38;5;124m\"\u001b[39m\n",
      "\u001b[1;31mTypeError\u001b[0m: 'tuple' object does not support item assignment"
     ]
    }
   ],
   "source": [
    "tup[0] = \"nidhi\" # This shows tupple is immutable "
   ]
  },
  {
   "cell_type": "code",
   "execution_count": 14,
   "id": "0661c257",
   "metadata": {},
   "outputs": [
    {
     "ename": "AttributeError",
     "evalue": "'tuple' object has no attribute 'append'",
     "output_type": "error",
     "traceback": [
      "\u001b[1;31m---------------------------------------------------------------------------\u001b[0m",
      "\u001b[1;31mAttributeError\u001b[0m                            Traceback (most recent call last)",
      "Input \u001b[1;32mIn [14]\u001b[0m, in \u001b[0;36m<cell line: 1>\u001b[1;34m()\u001b[0m\n\u001b[1;32m----> 1\u001b[0m \u001b[43mtup\u001b[49m\u001b[38;5;241;43m.\u001b[39;49m\u001b[43mappend\u001b[49m(\u001b[38;5;124m\"\u001b[39m\u001b[38;5;124mnidhi\u001b[39m\u001b[38;5;124m\"\u001b[39m)\n",
      "\u001b[1;31mAttributeError\u001b[0m: 'tuple' object has no attribute 'append'"
     ]
    }
   ],
   "source": [
    "tup.append(\"nidhi\")"
   ]
  },
  {
   "cell_type": "markdown",
   "id": "b43e3c1c",
   "metadata": {},
   "source": [
    "# When to use tuple ?\n",
    "\n",
    "If in your program you are passing an object and you don't want to get changed. Then tuple becomes your solution. It act as a convient source of data integrity."
   ]
  }
 ],
 "metadata": {
  "kernelspec": {
   "display_name": "Python 3 (ipykernel)",
   "language": "python",
   "name": "python3"
  },
  "language_info": {
   "codemirror_mode": {
    "name": "ipython",
    "version": 3
   },
   "file_extension": ".py",
   "mimetype": "text/x-python",
   "name": "python",
   "nbconvert_exporter": "python",
   "pygments_lexer": "ipython3",
   "version": "3.9.12"
  }
 },
 "nbformat": 4,
 "nbformat_minor": 5
}
