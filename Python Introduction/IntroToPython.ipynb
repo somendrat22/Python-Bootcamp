{
 "cells": [
  {
   "cell_type": "markdown",
   "id": "d8c0e12f",
   "metadata": {},
   "source": [
    "# Why Python ?\n",
    "\n",
    "1. Python was specifically designed as easy to use language.\n",
    "2. It has high focus on readiblity of code.\n",
    "3. It is designed for clear logical code i.e. easy to read and learn.\n",
    "4. In pyhton there is lot of libraries and frameworks which allow users to apply python in wide variety of tasks.\n",
    "5. In other programming languages like java, c++we use lot of braces but in python we use something called white spaces or indentation.\n",
    "6. You can read python without reading the actuall syntax behind it.\n",
    "7. It actually focus on developers time rather than computer's processing time.\n",
    "8. Python has great documentation. https://docs.python.org/3/"
   ]
  },
  {
   "cell_type": "markdown",
   "id": "3a36da25",
   "metadata": {},
   "source": [
    "# What we can do with Python ?\n",
    "\n",
    "## Automate Simple Task\n",
    "1. Searching of file and editing them \n",
    "2. Searching info from web\n",
    "3. Reading and editing excel file.\n",
    "4. Work with pdfs\n",
    "5. Automate email and text message.\n",
    "6. Fill out forms\n",
    "\n",
    "##  Data Science & ML\n",
    "1. Analyze large data files\n",
    "2. Create visualizations \n",
    "3. perform machine learning tasks \n",
    "4. create and run predictions \n",
    "Libraries : matplotlib, skicit learn, pandas, tensorflow\n",
    "\n",
    "## Create websites \n",
    "\n",
    "We can use frameworks like Django & Flask for backend of website."
   ]
  },
  {
   "cell_type": "markdown",
   "id": "49f1d1d0",
   "metadata": {},
   "source": [
    "# Python Features \n",
    "\n",
    "1. Free & Open Source : Python language is freely available at the official website and you can download it.\n",
    "2. Easy to Code : Python is a high-level programming language. Python is very easy to learn the language as compared to other languages like C, C#, Javascript, Java, etc. It is very easy to code in the Python language and anybody can learn Python basics in a few hours or days. It is also a developer-friendly language. \n",
    "3. Easy to read : As you will see, learning Python is quite simple. Python’s syntax is really straightforward. The code block is defined by the indentations rather than by semicolons or brackets.\n",
    "4. Object Oriented Language : One of the key features of Python is Object-Oriented programming. Python supports object-oriented language and concepts of classes, object encapsulation, etc. \n",
    "5. GUI Programming Support : Graphical User interfaces can be made using a module such as PyQt5, PyQt4, wxPython, or Tk in python. PyQt5 is the most popular option for creating graphical apps with Python.\n",
    "6. High Level Language : Python is a high-level language. When we write programs in Python, we do not need to remember the system architecture, nor do we need to manage the memory.\n",
    "7. Extensible feature : Python is an Extensible language. We can write some Python code into C or C++ language and also we can compile that code in C/C++ language.\n",
    "8. Easy to debug : Excellent information for mistake tracing. You will be able to quickly identify and correct the majority of your program’s issues once you understand how to interpret Python’s error traces. Simply by glancing at the code, you can determine what it is designed to perform.\n",
    "9. Python is Portable Language : Python language is also a portable language. For example, if we have Python code for windows and if we want to run this code on other platforms such as Linux, Unix, and Mac then we do not need to change it, we can run this code on any platform.\n",
    "10. Python is Integrated Lang. : Python is also an Integrated language because we can easily integrate Python with other languages like C, C++, etc. \n",
    "11. Interpreted Lang. : Python is also an Integrated language because we can easily integrate Python with other languages like C, C++, etc. \n",
    "12. Large Standard Library : Python has a large standard library that provides a rich set of modules and functions so you do not have to write your own code for every single thing. There are many libraries present in Python such as regular expressions, unit-testing, web browsers, etc.\n",
    "13. Dynamically Typed Language : Python is a dynamically-typed language. That means the type (for example- int, double, long, etc.) for a variable is decided at run time not in advance because of this feature we don’t need to specify the type of variable."
   ]
  }
 ],
 "metadata": {
  "kernelspec": {
   "display_name": "Python 3 (ipykernel)",
   "language": "python",
   "name": "python3"
  },
  "language_info": {
   "codemirror_mode": {
    "name": "ipython",
    "version": 3
   },
   "file_extension": ".py",
   "mimetype": "text/x-python",
   "name": "python",
   "nbconvert_exporter": "python",
   "pygments_lexer": "ipython3",
   "version": "3.9.12"
  }
 },
 "nbformat": 4,
 "nbformat_minor": 5
}
